{
 "cells": [
  {
   "cell_type": "markdown",
   "id": "88039aad",
   "metadata": {},
   "source": [
    "# The Football Lab: Predicting Player Impact by Position"
   ]
  },
  {
   "cell_type": "code",
   "execution_count": 337,
   "id": "09165603",
   "metadata": {},
   "outputs": [],
   "source": [
    "import pandas as pd\n",
    "import matplotlib.pyplot as plt\n",
    "import numpy as np\n",
    "import scipy.stats as stats\n",
    "import sklearn "
   ]
  },
  {
   "cell_type": "code",
   "execution_count": 338,
   "id": "6556c443",
   "metadata": {},
   "outputs": [],
   "source": [
    "\n",
    "raw_dataset_23 = pd.read_csv(\"datasets/2022-2023_Football_Player_Stats.csv\", encoding=\"latin1\")\n",
    "raw_dataset_22 = pd.read_csv(\"datasets/2021-2022_Football_Player_Stats.csv\", encoding=\"latin1\")\n"
   ]
  },
  {
   "cell_type": "markdown",
   "id": "f2c0391f",
   "metadata": {},
   "source": [
    "## Cleaning & Structuring the Dataset"
   ]
  },
  {
   "cell_type": "markdown",
   "id": "6bb1d97d",
   "metadata": {},
   "source": [
    "### Structuring the DataSet\n",
    "Here in this section we're going to manipulate the dataset. The manipulation are made so it's easier to use it.     \n",
    "Let's start adding a row with the name of all columns.."
   ]
  },
  {
   "cell_type": "code",
   "execution_count": 339,
   "id": "09045d53",
   "metadata": {},
   "outputs": [
    {
     "name": "stdout",
     "output_type": "stream",
     "text": [
      "<class 'pandas.core.frame.DataFrame'>\n",
      "Index: 2921 entries, 0 to 2920\n",
      "Columns: 143 entries, Rk to AerWon%\n",
      "dtypes: object(143)\n",
      "memory usage: 3.2+ MB\n"
     ]
    }
   ],
   "source": [
    "## Data Preprocessing\n",
    "raw_dataset_22.loc[len(raw_dataset_22)] = raw_dataset_22.columns\n",
    "\n",
    "raw_dataset_22 = raw_dataset_22.iloc[:,0].str.split(\";\", expand=True)\n",
    "raw_dataset_22.columns =raw_dataset_22.iloc[len(raw_dataset_22)-1]\n",
    "\n",
    "raw_dataset_22 = raw_dataset_22.drop(index =len(raw_dataset_22)-1)\n",
    "\n",
    "raw_dataset_22.head()\n",
    "raw_dataset_22.info()\n"
   ]
  },
  {
   "cell_type": "code",
   "execution_count": 340,
   "id": "27afe614",
   "metadata": {},
   "outputs": [
    {
     "data": {
      "text/html": [
       "<div>\n",
       "<style scoped>\n",
       "    .dataframe tbody tr th:only-of-type {\n",
       "        vertical-align: middle;\n",
       "    }\n",
       "\n",
       "    .dataframe tbody tr th {\n",
       "        vertical-align: top;\n",
       "    }\n",
       "\n",
       "    .dataframe thead th {\n",
       "        text-align: right;\n",
       "    }\n",
       "</style>\n",
       "<table border=\"1\" class=\"dataframe\">\n",
       "  <thead>\n",
       "    <tr style=\"text-align: right;\">\n",
       "      <th>2689</th>\n",
       "      <th>Rk</th>\n",
       "      <th>Player</th>\n",
       "      <th>Nation</th>\n",
       "      <th>Pos</th>\n",
       "      <th>Squad</th>\n",
       "      <th>Comp</th>\n",
       "      <th>Age</th>\n",
       "      <th>Born</th>\n",
       "      <th>MP</th>\n",
       "      <th>Starts</th>\n",
       "      <th>...</th>\n",
       "      <th>Off</th>\n",
       "      <th>Crs</th>\n",
       "      <th>TklW</th>\n",
       "      <th>PKwon</th>\n",
       "      <th>PKcon</th>\n",
       "      <th>OG</th>\n",
       "      <th>Recov</th>\n",
       "      <th>AerWon</th>\n",
       "      <th>AerLost</th>\n",
       "      <th>AerWon%</th>\n",
       "    </tr>\n",
       "  </thead>\n",
       "  <tbody>\n",
       "    <tr>\n",
       "      <th>0</th>\n",
       "      <td>1</td>\n",
       "      <td>Brenden Aaronson</td>\n",
       "      <td>USA</td>\n",
       "      <td>MFFW</td>\n",
       "      <td>Leeds United</td>\n",
       "      <td>Premier League</td>\n",
       "      <td>22</td>\n",
       "      <td>2000</td>\n",
       "      <td>20</td>\n",
       "      <td>19</td>\n",
       "      <td>...</td>\n",
       "      <td>0.17</td>\n",
       "      <td>2.54</td>\n",
       "      <td>0.51</td>\n",
       "      <td>0</td>\n",
       "      <td>0</td>\n",
       "      <td>0</td>\n",
       "      <td>4.86</td>\n",
       "      <td>0.34</td>\n",
       "      <td>1.19</td>\n",
       "      <td>22.2</td>\n",
       "    </tr>\n",
       "    <tr>\n",
       "      <th>1</th>\n",
       "      <td>2</td>\n",
       "      <td>Yunis Abdelhamid</td>\n",
       "      <td>MAR</td>\n",
       "      <td>DF</td>\n",
       "      <td>Reims</td>\n",
       "      <td>Ligue 1</td>\n",
       "      <td>35</td>\n",
       "      <td>1987</td>\n",
       "      <td>22</td>\n",
       "      <td>22</td>\n",
       "      <td>...</td>\n",
       "      <td>0.05</td>\n",
       "      <td>0.18</td>\n",
       "      <td>1.59</td>\n",
       "      <td>0</td>\n",
       "      <td>0</td>\n",
       "      <td>0</td>\n",
       "      <td>6.64</td>\n",
       "      <td>2.18</td>\n",
       "      <td>1.23</td>\n",
       "      <td>64</td>\n",
       "    </tr>\n",
       "    <tr>\n",
       "      <th>2</th>\n",
       "      <td>3</td>\n",
       "      <td>Himad Abdelli</td>\n",
       "      <td>FRA</td>\n",
       "      <td>MFFW</td>\n",
       "      <td>Angers</td>\n",
       "      <td>Ligue 1</td>\n",
       "      <td>23</td>\n",
       "      <td>1999</td>\n",
       "      <td>14</td>\n",
       "      <td>8</td>\n",
       "      <td>...</td>\n",
       "      <td>0</td>\n",
       "      <td>1.05</td>\n",
       "      <td>1.4</td>\n",
       "      <td>0</td>\n",
       "      <td>0</td>\n",
       "      <td>0</td>\n",
       "      <td>8.14</td>\n",
       "      <td>0.93</td>\n",
       "      <td>1.05</td>\n",
       "      <td>47.1</td>\n",
       "    </tr>\n",
       "    <tr>\n",
       "      <th>3</th>\n",
       "      <td>4</td>\n",
       "      <td>Salis Abdul Samed</td>\n",
       "      <td>GHA</td>\n",
       "      <td>MF</td>\n",
       "      <td>Lens</td>\n",
       "      <td>Ligue 1</td>\n",
       "      <td>22</td>\n",
       "      <td>2000</td>\n",
       "      <td>20</td>\n",
       "      <td>20</td>\n",
       "      <td>...</td>\n",
       "      <td>0</td>\n",
       "      <td>0.35</td>\n",
       "      <td>0.8</td>\n",
       "      <td>0</td>\n",
       "      <td>0</td>\n",
       "      <td>0.05</td>\n",
       "      <td>6.6</td>\n",
       "      <td>0.5</td>\n",
       "      <td>0.5</td>\n",
       "      <td>50</td>\n",
       "    </tr>\n",
       "    <tr>\n",
       "      <th>4</th>\n",
       "      <td>5</td>\n",
       "      <td>Laurent Abergel</td>\n",
       "      <td>FRA</td>\n",
       "      <td>MF</td>\n",
       "      <td>Lorient</td>\n",
       "      <td>Ligue 1</td>\n",
       "      <td>30</td>\n",
       "      <td>1993</td>\n",
       "      <td>15</td>\n",
       "      <td>15</td>\n",
       "      <td>...</td>\n",
       "      <td>0</td>\n",
       "      <td>0.23</td>\n",
       "      <td>2.02</td>\n",
       "      <td>0</td>\n",
       "      <td>0</td>\n",
       "      <td>0</td>\n",
       "      <td>6.51</td>\n",
       "      <td>0.31</td>\n",
       "      <td>0.39</td>\n",
       "      <td>44.4</td>\n",
       "    </tr>\n",
       "  </tbody>\n",
       "</table>\n",
       "<p>5 rows × 124 columns</p>\n",
       "</div>"
      ],
      "text/plain": [
       "2689 Rk             Player Nation   Pos         Squad            Comp Age  \\\n",
       "0     1   Brenden Aaronson    USA  MFFW  Leeds United  Premier League  22   \n",
       "1     2   Yunis Abdelhamid    MAR    DF         Reims         Ligue 1  35   \n",
       "2     3      Himad Abdelli    FRA  MFFW        Angers         Ligue 1  23   \n",
       "3     4  Salis Abdul Samed    GHA    MF          Lens         Ligue 1  22   \n",
       "4     5    Laurent Abergel    FRA    MF       Lorient         Ligue 1  30   \n",
       "\n",
       "2689  Born  MP Starts  ...   Off   Crs  TklW PKwon PKcon    OG Recov AerWon  \\\n",
       "0     2000  20     19  ...  0.17  2.54  0.51     0     0     0  4.86   0.34   \n",
       "1     1987  22     22  ...  0.05  0.18  1.59     0     0     0  6.64   2.18   \n",
       "2     1999  14      8  ...     0  1.05   1.4     0     0     0  8.14   0.93   \n",
       "3     2000  20     20  ...     0  0.35   0.8     0     0  0.05   6.6    0.5   \n",
       "4     1993  15     15  ...     0  0.23  2.02     0     0     0  6.51   0.31   \n",
       "\n",
       "2689 AerLost AerWon%  \n",
       "0       1.19    22.2  \n",
       "1       1.23      64  \n",
       "2       1.05    47.1  \n",
       "3        0.5      50  \n",
       "4       0.39    44.4  \n",
       "\n",
       "[5 rows x 124 columns]"
      ]
     },
     "execution_count": 340,
     "metadata": {},
     "output_type": "execute_result"
    }
   ],
   "source": [
    "## Data Preprocessing\n",
    "raw_dataset_23.loc[len(raw_dataset_23)] = raw_dataset_23.columns\n",
    "\n",
    "raw_dataset_23 = raw_dataset_23.iloc[:,0].str.split(\";\", expand=True)\n",
    "raw_dataset_23.columns =raw_dataset_23.iloc[len(raw_dataset_23)-1]\n",
    "\n",
    "raw_dataset_23 = raw_dataset_23.drop(index =len(raw_dataset_23)-1)\n",
    "\n",
    "raw_dataset_23.head()"
   ]
  },
  {
   "cell_type": "markdown",
   "id": "6d125f1a",
   "metadata": {},
   "source": [
    "Here we are going to delete all the non common columns between the two datasets and the duplicated row."
   ]
  },
  {
   "cell_type": "code",
   "execution_count": 341,
   "id": "c96db4bf",
   "metadata": {},
   "outputs": [],
   "source": [
    "common_columns = raw_dataset_23.columns.intersection(raw_dataset_22.columns)\n",
    "\n",
    "raw_dataset_22 = raw_dataset_22[common_columns]\n",
    "raw_dataset_23 = raw_dataset_23[common_columns]\n",
    "\n",
    "# Remove duplicates from the dataset\n",
    "raw_dataset_22 = raw_dataset_22[~raw_dataset_22['Player'].duplicated(keep=False)]\n",
    "#raw_dataset_23 = raw_dataset_23[~raw_dataset_23['Player'].duplicated(keep=False)]"
   ]
  },
  {
   "cell_type": "markdown",
   "id": "84427530",
   "metadata": {},
   "source": []
  },
  {
   "cell_type": "code",
   "execution_count": null,
   "id": "d8267a6a",
   "metadata": {},
   "outputs": [
    {
     "name": "stderr",
     "output_type": "stream",
     "text": [
      "/tmp/ipykernel_1171/2698686899.py:14: SettingWithCopyWarning: \n",
      "A value is trying to be set on a copy of a slice from a DataFrame.\n",
      "Try using .loc[row_indexer,col_indexer] = value instead\n",
      "\n",
      "See the caveats in the documentation: https://pandas.pydata.org/pandas-docs/stable/user_guide/indexing.html#returning-a-view-versus-a-copy\n",
      "  dataset_22[col] = dataset_22[col].apply(lambda col: pd.to_numeric(col, errors='coerce'))\n",
      "/tmp/ipykernel_1171/2698686899.py:15: SettingWithCopyWarning: \n",
      "A value is trying to be set on a copy of a slice from a DataFrame.\n",
      "Try using .loc[row_indexer,col_indexer] = value instead\n",
      "\n",
      "See the caveats in the documentation: https://pandas.pydata.org/pandas-docs/stable/user_guide/indexing.html#returning-a-view-versus-a-copy\n",
      "  dataset_23[col] = dataset_23[col].apply(lambda col: pd.to_numeric(col, errors='coerce'))\n"
     ]
    },
    {
     "ename": "AttributeError",
     "evalue": "'DataFrame' object has no attribute 'dtype'",
     "output_type": "error",
     "traceback": [
      "\u001b[0;31m---------------------------------------------------------------------------\u001b[0m",
      "\u001b[0;31mAttributeError\u001b[0m                            Traceback (most recent call last)",
      "\u001b[0;32m/tmp/ipykernel_1171/2698686899.py\u001b[0m in \u001b[0;36m?\u001b[0;34m()\u001b[0m\n\u001b[0;32m---> 25\u001b[0;31m \u001b[0mcolumns_to_keep\u001b[0m \u001b[0;34m=\u001b[0m \u001b[0;34m[\u001b[0m\u001b[0;34m\"Player\"\u001b[0m\u001b[0;34m,\u001b[0m \u001b[0;34m\"Nation\"\u001b[0m\u001b[0;34m,\u001b[0m \u001b[0;34m\"Pos\"\u001b[0m\u001b[0;34m,\u001b[0m \u001b[0;34m\"Comp\"\u001b[0m\u001b[0;34m,\u001b[0m \u001b[0;34m\"Min\"\u001b[0m\u001b[0;34m,\u001b[0m \u001b[0;34m\"MP\"\u001b[0m\u001b[0;34m,\u001b[0m \u001b[0;34m\"SoT%\"\u001b[0m\u001b[0;34m,\u001b[0m \u001b[0;34m\"PasTotCmp%\"\u001b[0m\u001b[0;34m,\u001b[0m         \u001b[0;34m\"Goals\"\u001b[0m\u001b[0;34m,\u001b[0m \u001b[0;34m\"Assists\"\u001b[0m\u001b[0;34m,\u001b[0m \u001b[0;34m\"TklWon\"\u001b[0m \u001b[0;34m,\u001b[0m\u001b[0;34m\"Shots\"\u001b[0m\u001b[0;34m,\u001b[0m \u001b[0;34m\"SoT\"\u001b[0m\u001b[0;34m,\u001b[0m \u001b[0;34m\"ShoDist\"\u001b[0m\u001b[0;34m,\u001b[0m \u001b[0;34m\"ShoPK\"\u001b[0m\u001b[0;34m,\u001b[0m \u001b[0;34m\"PasTotCmp\"\u001b[0m\u001b[0;34m,\u001b[0m \u001b[0;34m\"Assists\"\u001b[0m\u001b[0;34m,\u001b[0m \u001b[0;34m\"ScaSh\"\u001b[0m\u001b[0;34m,\u001b[0m \u001b[0;34m\"GCA\"\u001b[0m\u001b[0;34m,\u001b[0m \u001b[0;34m\"PKatt\"\u001b[0m\u001b[0;34m,\u001b[0m \u001b[0;34m\"Touches\"\u001b[0m\u001b[0;34m,\u001b[0m \u001b[0;34m\"PasTotDist\"\u001b[0m\u001b[0;34m,\u001b[0m \u001b[0;34m\"PasAss\"\u001b[0m\u001b[0;34m,\u001b[0m \u001b[0;34m\"CrsPA\"\u001b[0m\u001b[0;34m,\u001b[0m \u001b[0;34m\"ScaPassLive\"\u001b[0m\u001b[0;34m,\u001b[0m \u001b[0;34m\"Carries\"\u001b[0m\u001b[0;34m,\u001b[0m \u001b[0;34m\"CarPrgDist\"\u001b[0m\u001b[0;34m,\u001b[0m \u001b[0;34m\"PPA\"\u001b[0m\u001b[0;34m,\u001b[0m \u001b[0;34m\"Tkl\"\u001b[0m\u001b[0;34m,\u001b[0m \u001b[0;34m\"Int\"\u001b[0m\u001b[0;34m,\u001b[0m \u001b[0;34m\"Clr\"\u001b[0m\u001b[0;34m,\u001b[0m\u001b[0;34m\"BlkSh\"\u001b[0m\u001b[0;34m,\u001b[0m \u001b[0;34m\"TouDef3rd\"\u001b[0m\u001b[0;34m,\u001b[0m \u001b[0;34m\"AerWon\"\u001b[0m\u001b[0;34m,\u001b[0m \u001b[0;34m\"Err\"\u001b[0m\u001b[0;34m,\u001b[0m \u001b[0;34m\"Fls\"\u001b[0m\u001b[0;34m,\u001b[0m \u001b[0;34m\"PasLonCmp\"\u001b[0m\u001b[0;34m,\u001b[0m \u001b[0;34m\"PasLonAtt\"\u001b[0m\u001b[0;34m,\u001b[0m \u001b[0;34m\"PasDead\"\u001b[0m\u001b[0;34m,\u001b[0m \u001b[0;34m\"CrdR\"\u001b[0m\u001b[0;34m,\u001b[0m \u001b[0;34m\"Recov\"\u001b[0m\u001b[0;34m]\u001b[0m\u001b[0;34m\u001b[0m\u001b[0;34m\u001b[0m\u001b[0m\n\u001b[0m\u001b[1;32m     26\u001b[0m \u001b[0;34m\u001b[0m\u001b[0m\n\u001b[1;32m     27\u001b[0m \u001b[0mcolumns_to_convert\u001b[0m \u001b[0;34m=\u001b[0m \u001b[0;34m[\u001b[0m\u001b[0;34m\"Min\"\u001b[0m\u001b[0;34m,\u001b[0m \u001b[0;34m\"MP\"\u001b[0m\u001b[0;34m,\u001b[0m \u001b[0;34m\"SoT%\"\u001b[0m\u001b[0;34m,\u001b[0m \u001b[0;34m\"PasTotCmp%\"\u001b[0m\u001b[0;34m,\u001b[0m         \u001b[0;34m\"Goals\"\u001b[0m\u001b[0;34m,\u001b[0m \u001b[0;34m\"Assists\"\u001b[0m\u001b[0;34m,\u001b[0m \u001b[0;34m\"TklWon\"\u001b[0m \u001b[0;34m,\u001b[0m\u001b[0;34m\"Shots\"\u001b[0m\u001b[0;34m,\u001b[0m \u001b[0;34m\"SoT\"\u001b[0m\u001b[0;34m,\u001b[0m \u001b[0;34m\"ShoDist\"\u001b[0m\u001b[0;34m,\u001b[0m \u001b[0;34m\"ShoPK\"\u001b[0m\u001b[0;34m,\u001b[0m \u001b[0;34m\"PasTotCmp\"\u001b[0m\u001b[0;34m,\u001b[0m \u001b[0;34m\"Assists\"\u001b[0m\u001b[0;34m,\u001b[0m \u001b[0;34m\"ScaSh\"\u001b[0m\u001b[0;34m,\u001b[0m \u001b[0;34m\"GCA\"\u001b[0m\u001b[0;34m,\u001b[0m \u001b[0;34m\"PKatt\"\u001b[0m\u001b[0;34m,\u001b[0m \u001b[0;34m\"Touches\"\u001b[0m\u001b[0;34m,\u001b[0m \u001b[0;34m\"PasTotDist\"\u001b[0m\u001b[0;34m,\u001b[0m \u001b[0;34m\"PasAss\"\u001b[0m\u001b[0;34m,\u001b[0m \u001b[0;34m\"CrsPA\"\u001b[0m\u001b[0;34m,\u001b[0m \u001b[0;34m\"ScaPassLive\"\u001b[0m\u001b[0;34m,\u001b[0m \u001b[0;34m\"Carries\"\u001b[0m\u001b[0;34m,\u001b[0m \u001b[0;34m\"CarPrgDist\"\u001b[0m\u001b[0;34m,\u001b[0m \u001b[0;34m\"PPA\"\u001b[0m\u001b[0;34m,\u001b[0m \u001b[0;34m\"Tkl\"\u001b[0m\u001b[0;34m,\u001b[0m \u001b[0;34m\"Int\"\u001b[0m\u001b[0;34m,\u001b[0m \u001b[0;34m\"Clr\"\u001b[0m\u001b[0;34m,\u001b[0m\u001b[0;34m\"BlkSh\"\u001b[0m\u001b[0;34m,\u001b[0m \u001b[0;34m\"TouDef3rd\"\u001b[0m\u001b[0;34m,\u001b[0m \u001b[0;34m\"AerWon\"\u001b[0m\u001b[0;34m,\u001b[0m \u001b[0;34m\"Err\"\u001b[0m\u001b[0;34m,\u001b[0m \u001b[0;34m\"Fls\"\u001b[0m\u001b[0;34m,\u001b[0m \u001b[0;34m\"PasLonCmp\"\u001b[0m\u001b[0;34m,\u001b[0m \u001b[0;34m\"PasLonAtt\"\u001b[0m\u001b[0;34m,\u001b[0m \u001b[0;34m\"PasDead\"\u001b[0m\u001b[0;34m,\u001b[0m \u001b[0;34m\"CrdR\"\u001b[0m\u001b[0;34m,\u001b[0m \u001b[0;34m\"Recov\"\u001b[0m\u001b[0;34m]\u001b[0m\u001b[0;34m\u001b[0m\u001b[0;34m\u001b[0m\u001b[0m\n\u001b[1;32m     28\u001b[0m \u001b[0;34m\u001b[0m\u001b[0m\n",
      "\u001b[0;32m~/miniconda3/envs/data_science/lib/python3.9/site-packages/pandas/core/generic.py\u001b[0m in \u001b[0;36m?\u001b[0;34m(self, name)\u001b[0m\n\u001b[1;32m   6295\u001b[0m             \u001b[0;32mand\u001b[0m \u001b[0mname\u001b[0m \u001b[0;32mnot\u001b[0m \u001b[0;32min\u001b[0m \u001b[0mself\u001b[0m\u001b[0;34m.\u001b[0m\u001b[0m_accessors\u001b[0m\u001b[0;34m\u001b[0m\u001b[0;34m\u001b[0m\u001b[0m\n\u001b[1;32m   6296\u001b[0m             \u001b[0;32mand\u001b[0m \u001b[0mself\u001b[0m\u001b[0;34m.\u001b[0m\u001b[0m_info_axis\u001b[0m\u001b[0;34m.\u001b[0m\u001b[0m_can_hold_identifiers_and_holds_name\u001b[0m\u001b[0;34m(\u001b[0m\u001b[0mname\u001b[0m\u001b[0;34m)\u001b[0m\u001b[0;34m\u001b[0m\u001b[0;34m\u001b[0m\u001b[0m\n\u001b[1;32m   6297\u001b[0m         ):\n\u001b[1;32m   6298\u001b[0m             \u001b[0;32mreturn\u001b[0m \u001b[0mself\u001b[0m\u001b[0;34m[\u001b[0m\u001b[0mname\u001b[0m\u001b[0;34m]\u001b[0m\u001b[0;34m\u001b[0m\u001b[0;34m\u001b[0m\u001b[0m\n\u001b[0;32m-> 6299\u001b[0;31m         \u001b[0;32mreturn\u001b[0m \u001b[0mobject\u001b[0m\u001b[0;34m.\u001b[0m\u001b[0m__getattribute__\u001b[0m\u001b[0;34m(\u001b[0m\u001b[0mself\u001b[0m\u001b[0;34m,\u001b[0m \u001b[0mname\u001b[0m\u001b[0;34m)\u001b[0m\u001b[0;34m\u001b[0m\u001b[0;34m\u001b[0m\u001b[0m\n\u001b[0m",
      "\u001b[0;31mAttributeError\u001b[0m: 'DataFrame' object has no attribute 'dtype'"
     ]
    }
   ],
   "source": [
    "columns_to_keep = [\"Player\", \"Nation\", \"Pos\", \"Comp\", \"Min\", \"MP\", \"SoT%\", \"PasTotCmp%\",         \"Goals\", \"Assists\", \"TklWon\" ,\"Shots\", \"SoT\", \"ShoDist\", \"ShoPK\", \"PasTotCmp\", \"Assists\", \"ScaSh\", \"GCA\", \"PKatt\", \"Touches\", \"PasTotDist\", \"PasAss\", \"CrsPA\", \"ScaPassLive\", \"Carries\", \"CarPrgDist\", \"PPA\", \"Tkl\", \"Int\", \"Clr\",\"BlkSh\", \"TouDef3rd\", \"AerWon\", \"Err\", \"Fls\", \"PasLonCmp\", \"PasLonAtt\", \"PasDead\", \"CrdR\", \"Recov\"]\n",
    "\n",
    "columns_to_convert = [\"Min\", \"MP\", \"SoT%\", \"PasTotCmp%\",         \"Goals\", \"Assists\", \"TklWon\" ,\"Shots\", \"SoT\", \"ShoDist\", \"ShoPK\", \"PasTotCmp\", \"Assists\", \"ScaSh\", \"GCA\", \"PKatt\", \"Touches\", \"PasTotDist\", \"PasAss\", \"CrsPA\", \"ScaPassLive\", \"Carries\", \"CarPrgDist\", \"PPA\", \"Tkl\", \"Int\", \"Clr\",\"BlkSh\", \"TouDef3rd\", \"AerWon\", \"Err\", \"Fls\", \"PasLonCmp\", \"PasLonAtt\", \"PasDead\", \"CrdR\", \"Recov\"]\n",
    "\n",
    "raw_dataset_22[\"Min\"] = raw_dataset_22[\"Min\"].apply(lambda col: pd.to_numeric(col, errors='coerce'))\n",
    "raw_dataset_23[\"Min\"] = raw_dataset_23[\"Min\"].apply(lambda col: pd.to_numeric(col, errors='coerce'))\n",
    "\n",
    "column_not_to_norm = [\"Player\", \"Nation\", \"Pos\", \"Comp\", \"Min\", \"MP\", \"SoT%\", \"PasTotCmp%\"]\n",
    "\n",
    "dataset_22 = raw_dataset_22[columns_to_keep]\n",
    "dataset_23 = raw_dataset_23[columns_to_keep]\n",
    "\n",
    "for col in columns_to_convert:\n",
    "    dataset_22[col] = dataset_22[col].apply(lambda col: pd.to_numeric(col, errors='coerce'))\n",
    "    dataset_23[col] = dataset_23[col].apply(lambda col: pd.to_numeric(col, errors='coerce'))\n",
    "\n",
    "#print(dataset_22.dtypes)  # Controlla i tipi di dati delle colonne\n",
    "#i = 0\n",
    "#for a in dataset_22.dtypes:\n",
    "#    i += 1\n",
    "#    if a != 'int64' and a != 'float64':\n",
    "#        print(i)\n",
    "#        print(a)\n",
    "\n",
    "print(raw_dataset_22[\"Min\"].dtype)  # Controlla il tipo di dati della colonna"
   ]
  },
  {
   "cell_type": "markdown",
   "id": "5d2c1cd6",
   "metadata": {},
   "source": [
    "In this section we are going to normalize certain columns for the season."
   ]
  },
  {
   "cell_type": "code",
   "execution_count": null,
   "id": "98dde1ce",
   "metadata": {},
   "outputs": [
    {
     "name": "stderr",
     "output_type": "stream",
     "text": [
      "/tmp/ipykernel_1171/1352593982.py:10: FutureWarning: Setting an item of incompatible dtype is deprecated and will raise an error in a future version of pandas. Value '17.7' has dtype incompatible with int64, please explicitly cast to a compatible dtype first.\n",
      "  dataset_23.at[index, column] = round(dataset_23.at[index, column] * raw_dataset_23.at[index, \"Min\"] / 90, 1)\n"
     ]
    },
    {
     "ename": "KeyError",
     "evalue": "2689",
     "output_type": "error",
     "traceback": [
      "\u001b[0;31m---------------------------------------------------------------------------\u001b[0m",
      "\u001b[0;31mKeyError\u001b[0m                                  Traceback (most recent call last)",
      "File \u001b[0;32m~/miniconda3/envs/data_science/lib/python3.9/site-packages/pandas/core/indexes/base.py:3805\u001b[0m, in \u001b[0;36mIndex.get_loc\u001b[0;34m(self, key)\u001b[0m\n\u001b[1;32m   3804\u001b[0m \u001b[38;5;28;01mtry\u001b[39;00m:\n\u001b[0;32m-> 3805\u001b[0m     \u001b[38;5;28;01mreturn\u001b[39;00m \u001b[38;5;28;43mself\u001b[39;49m\u001b[38;5;241;43m.\u001b[39;49m\u001b[43m_engine\u001b[49m\u001b[38;5;241;43m.\u001b[39;49m\u001b[43mget_loc\u001b[49m\u001b[43m(\u001b[49m\u001b[43mcasted_key\u001b[49m\u001b[43m)\u001b[49m\n\u001b[1;32m   3806\u001b[0m \u001b[38;5;28;01mexcept\u001b[39;00m \u001b[38;5;167;01mKeyError\u001b[39;00m \u001b[38;5;28;01mas\u001b[39;00m err:\n",
      "File \u001b[0;32mindex.pyx:167\u001b[0m, in \u001b[0;36mpandas._libs.index.IndexEngine.get_loc\u001b[0;34m()\u001b[0m\n",
      "File \u001b[0;32mindex.pyx:196\u001b[0m, in \u001b[0;36mpandas._libs.index.IndexEngine.get_loc\u001b[0;34m()\u001b[0m\n",
      "File \u001b[0;32mpandas/_libs/hashtable_class_helper.pxi:2606\u001b[0m, in \u001b[0;36mpandas._libs.hashtable.Int64HashTable.get_item\u001b[0;34m()\u001b[0m\n",
      "File \u001b[0;32mpandas/_libs/hashtable_class_helper.pxi:2630\u001b[0m, in \u001b[0;36mpandas._libs.hashtable.Int64HashTable.get_item\u001b[0;34m()\u001b[0m\n",
      "\u001b[0;31mKeyError\u001b[0m: 2689",
      "\nThe above exception was the direct cause of the following exception:\n",
      "\u001b[0;31mKeyError\u001b[0m                                  Traceback (most recent call last)",
      "Cell \u001b[0;32mIn[335], line 10\u001b[0m\n\u001b[1;32m      8\u001b[0m     \u001b[38;5;28;01mfor\u001b[39;00m column \u001b[38;5;129;01min\u001b[39;00m columns_to_convert:\n\u001b[1;32m      9\u001b[0m         dataset_22\u001b[38;5;241m.\u001b[39mat[index, column] \u001b[38;5;241m=\u001b[39m \u001b[38;5;28mround\u001b[39m(dataset_22\u001b[38;5;241m.\u001b[39mat[index, column] \u001b[38;5;241m*\u001b[39m raw_dataset_22\u001b[38;5;241m.\u001b[39mat[index, \u001b[38;5;124m\"\u001b[39m\u001b[38;5;124mMin\u001b[39m\u001b[38;5;124m\"\u001b[39m] \u001b[38;5;241m/\u001b[39m \u001b[38;5;241m90\u001b[39m, \u001b[38;5;241m1\u001b[39m)\n\u001b[0;32m---> 10\u001b[0m         dataset_23\u001b[38;5;241m.\u001b[39mat[index, column] \u001b[38;5;241m=\u001b[39m \u001b[38;5;28mround\u001b[39m(\u001b[43mdataset_23\u001b[49m\u001b[38;5;241;43m.\u001b[39;49m\u001b[43mat\u001b[49m\u001b[43m[\u001b[49m\u001b[43mindex\u001b[49m\u001b[43m,\u001b[49m\u001b[43m \u001b[49m\u001b[43mcolumn\u001b[49m\u001b[43m]\u001b[49m \u001b[38;5;241m*\u001b[39m raw_dataset_23\u001b[38;5;241m.\u001b[39mat[index, \u001b[38;5;124m\"\u001b[39m\u001b[38;5;124mMin\u001b[39m\u001b[38;5;124m\"\u001b[39m] \u001b[38;5;241m/\u001b[39m \u001b[38;5;241m90\u001b[39m, \u001b[38;5;241m1\u001b[39m)\n\u001b[1;32m     11\u001b[0m         \u001b[38;5;66;03m# Controlla che il valore non sia NaN e convertilo in intero\u001b[39;00m\n\u001b[1;32m     12\u001b[0m \n\u001b[1;32m     13\u001b[0m         \u001b[38;5;66;03m#dataset_22.at[index, column] = dataset_22.at[index, column] * raw_dataset_22.at[index, \"Min\"] / 90\u001b[39;00m\n\u001b[1;32m     14\u001b[0m         \u001b[38;5;66;03m#dataset_23.at[index, column] = dataset_23.at[index, column] * raw_dataset_23.at[index, \"Min\"] / 90\u001b[39;00m\n\u001b[1;32m     17\u001b[0m dataset_22\u001b[38;5;241m.\u001b[39mhead()\n",
      "File \u001b[0;32m~/miniconda3/envs/data_science/lib/python3.9/site-packages/pandas/core/indexing.py:2573\u001b[0m, in \u001b[0;36m_AtIndexer.__getitem__\u001b[0;34m(self, key)\u001b[0m\n\u001b[1;32m   2571\u001b[0m     \u001b[38;5;28;01mif\u001b[39;00m \u001b[38;5;129;01mnot\u001b[39;00m \u001b[38;5;28misinstance\u001b[39m(key, \u001b[38;5;28mtuple\u001b[39m) \u001b[38;5;129;01mor\u001b[39;00m \u001b[38;5;129;01mnot\u001b[39;00m \u001b[38;5;28mall\u001b[39m(is_scalar(x) \u001b[38;5;28;01mfor\u001b[39;00m x \u001b[38;5;129;01min\u001b[39;00m key):\n\u001b[1;32m   2572\u001b[0m         \u001b[38;5;28;01mraise\u001b[39;00m \u001b[38;5;167;01mValueError\u001b[39;00m(\u001b[38;5;124m\"\u001b[39m\u001b[38;5;124mInvalid call for scalar access (getting)!\u001b[39m\u001b[38;5;124m\"\u001b[39m)\n\u001b[0;32m-> 2573\u001b[0m     \u001b[38;5;28;01mreturn\u001b[39;00m \u001b[38;5;28;43mself\u001b[39;49m\u001b[38;5;241;43m.\u001b[39;49m\u001b[43mobj\u001b[49m\u001b[38;5;241;43m.\u001b[39;49m\u001b[43mloc\u001b[49m\u001b[43m[\u001b[49m\u001b[43mkey\u001b[49m\u001b[43m]\u001b[49m\n\u001b[1;32m   2575\u001b[0m \u001b[38;5;28;01mreturn\u001b[39;00m \u001b[38;5;28msuper\u001b[39m()\u001b[38;5;241m.\u001b[39m\u001b[38;5;21m__getitem__\u001b[39m(key)\n",
      "File \u001b[0;32m~/miniconda3/envs/data_science/lib/python3.9/site-packages/pandas/core/indexing.py:1184\u001b[0m, in \u001b[0;36m_LocationIndexer.__getitem__\u001b[0;34m(self, key)\u001b[0m\n\u001b[1;32m   1182\u001b[0m     \u001b[38;5;28;01mif\u001b[39;00m \u001b[38;5;28mself\u001b[39m\u001b[38;5;241m.\u001b[39m_is_scalar_access(key):\n\u001b[1;32m   1183\u001b[0m         \u001b[38;5;28;01mreturn\u001b[39;00m \u001b[38;5;28mself\u001b[39m\u001b[38;5;241m.\u001b[39mobj\u001b[38;5;241m.\u001b[39m_get_value(\u001b[38;5;241m*\u001b[39mkey, takeable\u001b[38;5;241m=\u001b[39m\u001b[38;5;28mself\u001b[39m\u001b[38;5;241m.\u001b[39m_takeable)\n\u001b[0;32m-> 1184\u001b[0m     \u001b[38;5;28;01mreturn\u001b[39;00m \u001b[38;5;28;43mself\u001b[39;49m\u001b[38;5;241;43m.\u001b[39;49m\u001b[43m_getitem_tuple\u001b[49m\u001b[43m(\u001b[49m\u001b[43mkey\u001b[49m\u001b[43m)\u001b[49m\n\u001b[1;32m   1185\u001b[0m \u001b[38;5;28;01melse\u001b[39;00m:\n\u001b[1;32m   1186\u001b[0m     \u001b[38;5;66;03m# we by definition only have the 0th axis\u001b[39;00m\n\u001b[1;32m   1187\u001b[0m     axis \u001b[38;5;241m=\u001b[39m \u001b[38;5;28mself\u001b[39m\u001b[38;5;241m.\u001b[39maxis \u001b[38;5;129;01mor\u001b[39;00m \u001b[38;5;241m0\u001b[39m\n",
      "File \u001b[0;32m~/miniconda3/envs/data_science/lib/python3.9/site-packages/pandas/core/indexing.py:1368\u001b[0m, in \u001b[0;36m_LocIndexer._getitem_tuple\u001b[0;34m(self, tup)\u001b[0m\n\u001b[1;32m   1366\u001b[0m \u001b[38;5;28;01mwith\u001b[39;00m suppress(IndexingError):\n\u001b[1;32m   1367\u001b[0m     tup \u001b[38;5;241m=\u001b[39m \u001b[38;5;28mself\u001b[39m\u001b[38;5;241m.\u001b[39m_expand_ellipsis(tup)\n\u001b[0;32m-> 1368\u001b[0m     \u001b[38;5;28;01mreturn\u001b[39;00m \u001b[38;5;28;43mself\u001b[39;49m\u001b[38;5;241;43m.\u001b[39;49m\u001b[43m_getitem_lowerdim\u001b[49m\u001b[43m(\u001b[49m\u001b[43mtup\u001b[49m\u001b[43m)\u001b[49m\n\u001b[1;32m   1370\u001b[0m \u001b[38;5;66;03m# no multi-index, so validate all of the indexers\u001b[39;00m\n\u001b[1;32m   1371\u001b[0m tup \u001b[38;5;241m=\u001b[39m \u001b[38;5;28mself\u001b[39m\u001b[38;5;241m.\u001b[39m_validate_tuple_indexer(tup)\n",
      "File \u001b[0;32m~/miniconda3/envs/data_science/lib/python3.9/site-packages/pandas/core/indexing.py:1065\u001b[0m, in \u001b[0;36m_LocationIndexer._getitem_lowerdim\u001b[0;34m(self, tup)\u001b[0m\n\u001b[1;32m   1061\u001b[0m \u001b[38;5;28;01mfor\u001b[39;00m i, key \u001b[38;5;129;01min\u001b[39;00m \u001b[38;5;28menumerate\u001b[39m(tup):\n\u001b[1;32m   1062\u001b[0m     \u001b[38;5;28;01mif\u001b[39;00m is_label_like(key):\n\u001b[1;32m   1063\u001b[0m         \u001b[38;5;66;03m# We don't need to check for tuples here because those are\u001b[39;00m\n\u001b[1;32m   1064\u001b[0m         \u001b[38;5;66;03m#  caught by the _is_nested_tuple_indexer check above.\u001b[39;00m\n\u001b[0;32m-> 1065\u001b[0m         section \u001b[38;5;241m=\u001b[39m \u001b[38;5;28;43mself\u001b[39;49m\u001b[38;5;241;43m.\u001b[39;49m\u001b[43m_getitem_axis\u001b[49m\u001b[43m(\u001b[49m\u001b[43mkey\u001b[49m\u001b[43m,\u001b[49m\u001b[43m \u001b[49m\u001b[43maxis\u001b[49m\u001b[38;5;241;43m=\u001b[39;49m\u001b[43mi\u001b[49m\u001b[43m)\u001b[49m\n\u001b[1;32m   1067\u001b[0m         \u001b[38;5;66;03m# We should never have a scalar section here, because\u001b[39;00m\n\u001b[1;32m   1068\u001b[0m         \u001b[38;5;66;03m#  _getitem_lowerdim is only called after a check for\u001b[39;00m\n\u001b[1;32m   1069\u001b[0m         \u001b[38;5;66;03m#  is_scalar_access, which that would be.\u001b[39;00m\n\u001b[1;32m   1070\u001b[0m         \u001b[38;5;28;01mif\u001b[39;00m section\u001b[38;5;241m.\u001b[39mndim \u001b[38;5;241m==\u001b[39m \u001b[38;5;28mself\u001b[39m\u001b[38;5;241m.\u001b[39mndim:\n\u001b[1;32m   1071\u001b[0m             \u001b[38;5;66;03m# we're in the middle of slicing through a MultiIndex\u001b[39;00m\n\u001b[1;32m   1072\u001b[0m             \u001b[38;5;66;03m# revise the key wrt to `section` by inserting an _NS\u001b[39;00m\n",
      "File \u001b[0;32m~/miniconda3/envs/data_science/lib/python3.9/site-packages/pandas/core/indexing.py:1431\u001b[0m, in \u001b[0;36m_LocIndexer._getitem_axis\u001b[0;34m(self, key, axis)\u001b[0m\n\u001b[1;32m   1429\u001b[0m \u001b[38;5;66;03m# fall thru to straight lookup\u001b[39;00m\n\u001b[1;32m   1430\u001b[0m \u001b[38;5;28mself\u001b[39m\u001b[38;5;241m.\u001b[39m_validate_key(key, axis)\n\u001b[0;32m-> 1431\u001b[0m \u001b[38;5;28;01mreturn\u001b[39;00m \u001b[38;5;28;43mself\u001b[39;49m\u001b[38;5;241;43m.\u001b[39;49m\u001b[43m_get_label\u001b[49m\u001b[43m(\u001b[49m\u001b[43mkey\u001b[49m\u001b[43m,\u001b[49m\u001b[43m \u001b[49m\u001b[43maxis\u001b[49m\u001b[38;5;241;43m=\u001b[39;49m\u001b[43maxis\u001b[49m\u001b[43m)\u001b[49m\n",
      "File \u001b[0;32m~/miniconda3/envs/data_science/lib/python3.9/site-packages/pandas/core/indexing.py:1381\u001b[0m, in \u001b[0;36m_LocIndexer._get_label\u001b[0;34m(self, label, axis)\u001b[0m\n\u001b[1;32m   1379\u001b[0m \u001b[38;5;28;01mdef\u001b[39;00m\u001b[38;5;250m \u001b[39m\u001b[38;5;21m_get_label\u001b[39m(\u001b[38;5;28mself\u001b[39m, label, axis: AxisInt):\n\u001b[1;32m   1380\u001b[0m     \u001b[38;5;66;03m# GH#5567 this will fail if the label is not present in the axis.\u001b[39;00m\n\u001b[0;32m-> 1381\u001b[0m     \u001b[38;5;28;01mreturn\u001b[39;00m \u001b[38;5;28;43mself\u001b[39;49m\u001b[38;5;241;43m.\u001b[39;49m\u001b[43mobj\u001b[49m\u001b[38;5;241;43m.\u001b[39;49m\u001b[43mxs\u001b[49m\u001b[43m(\u001b[49m\u001b[43mlabel\u001b[49m\u001b[43m,\u001b[49m\u001b[43m \u001b[49m\u001b[43maxis\u001b[49m\u001b[38;5;241;43m=\u001b[39;49m\u001b[43maxis\u001b[49m\u001b[43m)\u001b[49m\n",
      "File \u001b[0;32m~/miniconda3/envs/data_science/lib/python3.9/site-packages/pandas/core/generic.py:4301\u001b[0m, in \u001b[0;36mNDFrame.xs\u001b[0;34m(self, key, axis, level, drop_level)\u001b[0m\n\u001b[1;32m   4299\u001b[0m             new_index \u001b[38;5;241m=\u001b[39m index[loc]\n\u001b[1;32m   4300\u001b[0m \u001b[38;5;28;01melse\u001b[39;00m:\n\u001b[0;32m-> 4301\u001b[0m     loc \u001b[38;5;241m=\u001b[39m \u001b[43mindex\u001b[49m\u001b[38;5;241;43m.\u001b[39;49m\u001b[43mget_loc\u001b[49m\u001b[43m(\u001b[49m\u001b[43mkey\u001b[49m\u001b[43m)\u001b[49m\n\u001b[1;32m   4303\u001b[0m     \u001b[38;5;28;01mif\u001b[39;00m \u001b[38;5;28misinstance\u001b[39m(loc, np\u001b[38;5;241m.\u001b[39mndarray):\n\u001b[1;32m   4304\u001b[0m         \u001b[38;5;28;01mif\u001b[39;00m loc\u001b[38;5;241m.\u001b[39mdtype \u001b[38;5;241m==\u001b[39m np\u001b[38;5;241m.\u001b[39mbool_:\n",
      "File \u001b[0;32m~/miniconda3/envs/data_science/lib/python3.9/site-packages/pandas/core/indexes/base.py:3812\u001b[0m, in \u001b[0;36mIndex.get_loc\u001b[0;34m(self, key)\u001b[0m\n\u001b[1;32m   3807\u001b[0m     \u001b[38;5;28;01mif\u001b[39;00m \u001b[38;5;28misinstance\u001b[39m(casted_key, \u001b[38;5;28mslice\u001b[39m) \u001b[38;5;129;01mor\u001b[39;00m (\n\u001b[1;32m   3808\u001b[0m         \u001b[38;5;28misinstance\u001b[39m(casted_key, abc\u001b[38;5;241m.\u001b[39mIterable)\n\u001b[1;32m   3809\u001b[0m         \u001b[38;5;129;01mand\u001b[39;00m \u001b[38;5;28many\u001b[39m(\u001b[38;5;28misinstance\u001b[39m(x, \u001b[38;5;28mslice\u001b[39m) \u001b[38;5;28;01mfor\u001b[39;00m x \u001b[38;5;129;01min\u001b[39;00m casted_key)\n\u001b[1;32m   3810\u001b[0m     ):\n\u001b[1;32m   3811\u001b[0m         \u001b[38;5;28;01mraise\u001b[39;00m InvalidIndexError(key)\n\u001b[0;32m-> 3812\u001b[0m     \u001b[38;5;28;01mraise\u001b[39;00m \u001b[38;5;167;01mKeyError\u001b[39;00m(key) \u001b[38;5;28;01mfrom\u001b[39;00m\u001b[38;5;250m \u001b[39m\u001b[38;5;21;01merr\u001b[39;00m\n\u001b[1;32m   3813\u001b[0m \u001b[38;5;28;01mexcept\u001b[39;00m \u001b[38;5;167;01mTypeError\u001b[39;00m:\n\u001b[1;32m   3814\u001b[0m     \u001b[38;5;66;03m# If we have a listlike key, _check_indexing_error will raise\u001b[39;00m\n\u001b[1;32m   3815\u001b[0m     \u001b[38;5;66;03m#  InvalidIndexError. Otherwise we fall through and re-raise\u001b[39;00m\n\u001b[1;32m   3816\u001b[0m     \u001b[38;5;66;03m#  the TypeError.\u001b[39;00m\n\u001b[1;32m   3817\u001b[0m     \u001b[38;5;28mself\u001b[39m\u001b[38;5;241m.\u001b[39m_check_indexing_error(key)\n",
      "\u001b[0;31mKeyError\u001b[0m: 2689"
     ]
    }
   ],
   "source": [
    "# here we are going to normalize all the columns as follows:\n",
    "# value = value * Minutes Played / 90\n",
    "\n",
    "columns_to_normalize = [\"Goals\", \"Assists\", \"TklWon\" ,\"Shots\", \"SoT\", \"ShoDist\", \"ShoPK\", \"PasTotCmp\", \"Assists\", \"ScaSh\", \"GCA\", \"PKatt\", \"Touches\", \"PasTotDist\", \"PasAss\", \"CrsPA\", \"ScaPassLive\", \"Carries\", \"CarPrgDist\", \"PPA\", \"Tkl\", \"Int\", \"Clr\",\"BlkSh\", \"TouDef3rd\", \"AerWon\", \"Err\", \"Fls\", \"PasLonCmp\", \"PasLonAtt\", \"PasDead\", \"CrdR\", \"Recov\"]\n",
    "\n",
    "\n",
    "for index, line in dataset_22.iterrows():\n",
    "    for column in columns_to_normalize:\n",
    "        dataset_22.at[index, column] = round(dataset_22.at[index, column] * raw_dataset_22.at[index, \"Min\"] / 90, 1)\n",
    "        dataset_23.at[index, column] = round(dataset_23.at[index, column] * raw_dataset_23.at[index, \"Min\"] / 90, 1)\n",
    "        # Controlla che il valore non sia NaN e convertilo in intero\n",
    "\n",
    "        #dataset_22.at[index, column] = dataset_22.at[index, column] * raw_dataset_22.at[index, \"Min\"] / 90\n",
    "        #dataset_23.at[index, column] = dataset_23.at[index, column] * raw_dataset_23.at[index, \"Min\"] / 90\n",
    "\n",
    "\n",
    "dataset_22.head()\n"
   ]
  }
 ],
 "metadata": {
  "kernelspec": {
   "display_name": "data_science",
   "language": "python",
   "name": "python3"
  },
  "language_info": {
   "codemirror_mode": {
    "name": "ipython",
    "version": 3
   },
   "file_extension": ".py",
   "mimetype": "text/x-python",
   "name": "python",
   "nbconvert_exporter": "python",
   "pygments_lexer": "ipython3",
   "version": "3.9.21"
  }
 },
 "nbformat": 4,
 "nbformat_minor": 5
}
