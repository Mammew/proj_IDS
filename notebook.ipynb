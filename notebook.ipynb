{
 "cells": [
  {
   "cell_type": "markdown",
   "id": "88039aad",
   "metadata": {},
   "source": [
    "# The Football Lab: Predicting Player Impact by Position"
   ]
  },
  {
   "cell_type": "code",
   "execution_count": 172,
   "id": "09165603",
   "metadata": {},
   "outputs": [],
   "source": [
    "import pandas as pd\n",
    "import matplotlib.pyplot as plt\n",
    "import numpy as np\n",
    "import scipy.stats as stats\n",
    "from sklearn.linear_model import LinearRegression\n",
    "from sklearn.metrics import mean_squared_error"
   ]
  },
  {
   "cell_type": "code",
   "execution_count": 173,
   "id": "6556c443",
   "metadata": {},
   "outputs": [],
   "source": [
    "\n",
    "raw_dataset_23 = pd.read_csv(\"datasets/2022-2023_Football_Player_Stats.csv\", encoding=\"latin1\")\n",
    "raw_dataset_22 = pd.read_csv(\"datasets/2021-2022_Football_Player_Stats.csv\", encoding=\"latin1\")\n"
   ]
  },
  {
   "cell_type": "markdown",
   "id": "f2c0391f",
   "metadata": {},
   "source": [
    "## Cleaning & Structuring the Dataset"
   ]
  },
  {
   "cell_type": "markdown",
   "id": "6bb1d97d",
   "metadata": {},
   "source": [
    "### Structuring the DataSet\n",
    "Here in this section we're going to manipulate the dataset. The manipulation are made so it's easier to use it.     \n",
    "Let's start adding a row with the name of all columns.."
   ]
  },
  {
   "cell_type": "code",
   "execution_count": 174,
   "id": "09045d53",
   "metadata": {},
   "outputs": [
    {
     "data": {
      "text/html": [
       "<div>\n",
       "<style scoped>\n",
       "    .dataframe tbody tr th:only-of-type {\n",
       "        vertical-align: middle;\n",
       "    }\n",
       "\n",
       "    .dataframe tbody tr th {\n",
       "        vertical-align: top;\n",
       "    }\n",
       "\n",
       "    .dataframe thead th {\n",
       "        text-align: right;\n",
       "    }\n",
       "</style>\n",
       "<table border=\"1\" class=\"dataframe\">\n",
       "  <thead>\n",
       "    <tr style=\"text-align: right;\">\n",
       "      <th>2921</th>\n",
       "      <th>Rk</th>\n",
       "      <th>Player</th>\n",
       "      <th>Nation</th>\n",
       "      <th>Pos</th>\n",
       "      <th>Squad</th>\n",
       "      <th>Comp</th>\n",
       "      <th>Age</th>\n",
       "      <th>Born</th>\n",
       "      <th>MP</th>\n",
       "      <th>Starts</th>\n",
       "      <th>...</th>\n",
       "      <th>Off</th>\n",
       "      <th>Crs</th>\n",
       "      <th>TklW</th>\n",
       "      <th>PKwon</th>\n",
       "      <th>PKcon</th>\n",
       "      <th>OG</th>\n",
       "      <th>Recov</th>\n",
       "      <th>AerWon</th>\n",
       "      <th>AerLost</th>\n",
       "      <th>AerWon%</th>\n",
       "    </tr>\n",
       "  </thead>\n",
       "  <tbody>\n",
       "    <tr>\n",
       "      <th>0</th>\n",
       "      <td>1</td>\n",
       "      <td>Max Aarons</td>\n",
       "      <td>ENG</td>\n",
       "      <td>DF</td>\n",
       "      <td>Norwich City</td>\n",
       "      <td>Premier League</td>\n",
       "      <td>22</td>\n",
       "      <td>2000</td>\n",
       "      <td>34</td>\n",
       "      <td>32</td>\n",
       "      <td>...</td>\n",
       "      <td>0.03</td>\n",
       "      <td>1.41</td>\n",
       "      <td>1.16</td>\n",
       "      <td>0</td>\n",
       "      <td>0.06</td>\n",
       "      <td>0.03</td>\n",
       "      <td>5.53</td>\n",
       "      <td>0.47</td>\n",
       "      <td>1.59</td>\n",
       "      <td>22.7</td>\n",
       "    </tr>\n",
       "    <tr>\n",
       "      <th>1</th>\n",
       "      <td>2</td>\n",
       "      <td>Yunis Abdelhamid</td>\n",
       "      <td>MAR</td>\n",
       "      <td>DF</td>\n",
       "      <td>Reims</td>\n",
       "      <td>Ligue 1</td>\n",
       "      <td>34</td>\n",
       "      <td>1987</td>\n",
       "      <td>34</td>\n",
       "      <td>34</td>\n",
       "      <td>...</td>\n",
       "      <td>0</td>\n",
       "      <td>0.06</td>\n",
       "      <td>1.39</td>\n",
       "      <td>0</td>\n",
       "      <td>0.03</td>\n",
       "      <td>0</td>\n",
       "      <td>6.77</td>\n",
       "      <td>2.02</td>\n",
       "      <td>1.36</td>\n",
       "      <td>59.8</td>\n",
       "    </tr>\n",
       "    <tr>\n",
       "      <th>2</th>\n",
       "      <td>3</td>\n",
       "      <td>Salis Abdul Samed</td>\n",
       "      <td>GHA</td>\n",
       "      <td>MF</td>\n",
       "      <td>Clermont Foot</td>\n",
       "      <td>Ligue 1</td>\n",
       "      <td>22</td>\n",
       "      <td>2000</td>\n",
       "      <td>31</td>\n",
       "      <td>29</td>\n",
       "      <td>...</td>\n",
       "      <td>0</td>\n",
       "      <td>0.36</td>\n",
       "      <td>1.24</td>\n",
       "      <td>0</td>\n",
       "      <td>0</td>\n",
       "      <td>0</td>\n",
       "      <td>8.76</td>\n",
       "      <td>0.88</td>\n",
       "      <td>0.88</td>\n",
       "      <td>50</td>\n",
       "    </tr>\n",
       "    <tr>\n",
       "      <th>3</th>\n",
       "      <td>4</td>\n",
       "      <td>Laurent Abergel</td>\n",
       "      <td>FRA</td>\n",
       "      <td>MF</td>\n",
       "      <td>Lorient</td>\n",
       "      <td>Ligue 1</td>\n",
       "      <td>29</td>\n",
       "      <td>1993</td>\n",
       "      <td>34</td>\n",
       "      <td>34</td>\n",
       "      <td>...</td>\n",
       "      <td>0.03</td>\n",
       "      <td>0.79</td>\n",
       "      <td>2.23</td>\n",
       "      <td>0</td>\n",
       "      <td>0</td>\n",
       "      <td>0</td>\n",
       "      <td>8.87</td>\n",
       "      <td>0.43</td>\n",
       "      <td>0.43</td>\n",
       "      <td>50</td>\n",
       "    </tr>\n",
       "    <tr>\n",
       "      <th>4</th>\n",
       "      <td>5</td>\n",
       "      <td>Charles Abi</td>\n",
       "      <td>FRA</td>\n",
       "      <td>FW</td>\n",
       "      <td>Saint-Étienne</td>\n",
       "      <td>Ligue 1</td>\n",
       "      <td>22</td>\n",
       "      <td>2000</td>\n",
       "      <td>1</td>\n",
       "      <td>1</td>\n",
       "      <td>...</td>\n",
       "      <td>0</td>\n",
       "      <td>2</td>\n",
       "      <td>0</td>\n",
       "      <td>0</td>\n",
       "      <td>0</td>\n",
       "      <td>0</td>\n",
       "      <td>4</td>\n",
       "      <td>2</td>\n",
       "      <td>0</td>\n",
       "      <td>100</td>\n",
       "    </tr>\n",
       "  </tbody>\n",
       "</table>\n",
       "<p>5 rows × 143 columns</p>\n",
       "</div>"
      ],
      "text/plain": [
       "2921 Rk             Player Nation Pos          Squad            Comp Age  \\\n",
       "0     1         Max Aarons    ENG  DF   Norwich City  Premier League  22   \n",
       "1     2   Yunis Abdelhamid    MAR  DF          Reims         Ligue 1  34   \n",
       "2     3  Salis Abdul Samed    GHA  MF  Clermont Foot         Ligue 1  22   \n",
       "3     4    Laurent Abergel    FRA  MF        Lorient         Ligue 1  29   \n",
       "4     5        Charles Abi    FRA  FW  Saint-Étienne         Ligue 1  22   \n",
       "\n",
       "2921  Born  MP Starts  ...   Off   Crs  TklW PKwon PKcon    OG Recov AerWon  \\\n",
       "0     2000  34     32  ...  0.03  1.41  1.16     0  0.06  0.03  5.53   0.47   \n",
       "1     1987  34     34  ...     0  0.06  1.39     0  0.03     0  6.77   2.02   \n",
       "2     2000  31     29  ...     0  0.36  1.24     0     0     0  8.76   0.88   \n",
       "3     1993  34     34  ...  0.03  0.79  2.23     0     0     0  8.87   0.43   \n",
       "4     2000   1      1  ...     0     2     0     0     0     0     4      2   \n",
       "\n",
       "2921 AerLost AerWon%  \n",
       "0       1.59    22.7  \n",
       "1       1.36    59.8  \n",
       "2       0.88      50  \n",
       "3       0.43      50  \n",
       "4          0     100  \n",
       "\n",
       "[5 rows x 143 columns]"
      ]
     },
     "execution_count": 174,
     "metadata": {},
     "output_type": "execute_result"
    }
   ],
   "source": [
    "## Data Preprocessing\n",
    "raw_dataset_22.loc[len(raw_dataset_22)] = raw_dataset_22.columns\n",
    "\n",
    "raw_dataset_22 = raw_dataset_22.iloc[:,0].str.split(\";\", expand=True)\n",
    "raw_dataset_22.columns =raw_dataset_22.iloc[len(raw_dataset_22)-1]\n",
    "\n",
    "raw_dataset_22 = raw_dataset_22.drop(index =len(raw_dataset_22)-1)\n",
    "\n",
    "raw_dataset_22.head()"
   ]
  },
  {
   "cell_type": "code",
   "execution_count": 175,
   "id": "27afe614",
   "metadata": {},
   "outputs": [
    {
     "data": {
      "text/html": [
       "<div>\n",
       "<style scoped>\n",
       "    .dataframe tbody tr th:only-of-type {\n",
       "        vertical-align: middle;\n",
       "    }\n",
       "\n",
       "    .dataframe tbody tr th {\n",
       "        vertical-align: top;\n",
       "    }\n",
       "\n",
       "    .dataframe thead th {\n",
       "        text-align: right;\n",
       "    }\n",
       "</style>\n",
       "<table border=\"1\" class=\"dataframe\">\n",
       "  <thead>\n",
       "    <tr style=\"text-align: right;\">\n",
       "      <th>2689</th>\n",
       "      <th>Rk</th>\n",
       "      <th>Player</th>\n",
       "      <th>Nation</th>\n",
       "      <th>Pos</th>\n",
       "      <th>Squad</th>\n",
       "      <th>Comp</th>\n",
       "      <th>Age</th>\n",
       "      <th>Born</th>\n",
       "      <th>MP</th>\n",
       "      <th>Starts</th>\n",
       "      <th>...</th>\n",
       "      <th>Off</th>\n",
       "      <th>Crs</th>\n",
       "      <th>TklW</th>\n",
       "      <th>PKwon</th>\n",
       "      <th>PKcon</th>\n",
       "      <th>OG</th>\n",
       "      <th>Recov</th>\n",
       "      <th>AerWon</th>\n",
       "      <th>AerLost</th>\n",
       "      <th>AerWon%</th>\n",
       "    </tr>\n",
       "  </thead>\n",
       "  <tbody>\n",
       "    <tr>\n",
       "      <th>0</th>\n",
       "      <td>1</td>\n",
       "      <td>Brenden Aaronson</td>\n",
       "      <td>USA</td>\n",
       "      <td>MFFW</td>\n",
       "      <td>Leeds United</td>\n",
       "      <td>Premier League</td>\n",
       "      <td>22</td>\n",
       "      <td>2000</td>\n",
       "      <td>20</td>\n",
       "      <td>19</td>\n",
       "      <td>...</td>\n",
       "      <td>0.17</td>\n",
       "      <td>2.54</td>\n",
       "      <td>0.51</td>\n",
       "      <td>0</td>\n",
       "      <td>0</td>\n",
       "      <td>0</td>\n",
       "      <td>4.86</td>\n",
       "      <td>0.34</td>\n",
       "      <td>1.19</td>\n",
       "      <td>22.2</td>\n",
       "    </tr>\n",
       "    <tr>\n",
       "      <th>1</th>\n",
       "      <td>2</td>\n",
       "      <td>Yunis Abdelhamid</td>\n",
       "      <td>MAR</td>\n",
       "      <td>DF</td>\n",
       "      <td>Reims</td>\n",
       "      <td>Ligue 1</td>\n",
       "      <td>35</td>\n",
       "      <td>1987</td>\n",
       "      <td>22</td>\n",
       "      <td>22</td>\n",
       "      <td>...</td>\n",
       "      <td>0.05</td>\n",
       "      <td>0.18</td>\n",
       "      <td>1.59</td>\n",
       "      <td>0</td>\n",
       "      <td>0</td>\n",
       "      <td>0</td>\n",
       "      <td>6.64</td>\n",
       "      <td>2.18</td>\n",
       "      <td>1.23</td>\n",
       "      <td>64</td>\n",
       "    </tr>\n",
       "    <tr>\n",
       "      <th>2</th>\n",
       "      <td>3</td>\n",
       "      <td>Himad Abdelli</td>\n",
       "      <td>FRA</td>\n",
       "      <td>MFFW</td>\n",
       "      <td>Angers</td>\n",
       "      <td>Ligue 1</td>\n",
       "      <td>23</td>\n",
       "      <td>1999</td>\n",
       "      <td>14</td>\n",
       "      <td>8</td>\n",
       "      <td>...</td>\n",
       "      <td>0</td>\n",
       "      <td>1.05</td>\n",
       "      <td>1.4</td>\n",
       "      <td>0</td>\n",
       "      <td>0</td>\n",
       "      <td>0</td>\n",
       "      <td>8.14</td>\n",
       "      <td>0.93</td>\n",
       "      <td>1.05</td>\n",
       "      <td>47.1</td>\n",
       "    </tr>\n",
       "    <tr>\n",
       "      <th>3</th>\n",
       "      <td>4</td>\n",
       "      <td>Salis Abdul Samed</td>\n",
       "      <td>GHA</td>\n",
       "      <td>MF</td>\n",
       "      <td>Lens</td>\n",
       "      <td>Ligue 1</td>\n",
       "      <td>22</td>\n",
       "      <td>2000</td>\n",
       "      <td>20</td>\n",
       "      <td>20</td>\n",
       "      <td>...</td>\n",
       "      <td>0</td>\n",
       "      <td>0.35</td>\n",
       "      <td>0.8</td>\n",
       "      <td>0</td>\n",
       "      <td>0</td>\n",
       "      <td>0.05</td>\n",
       "      <td>6.6</td>\n",
       "      <td>0.5</td>\n",
       "      <td>0.5</td>\n",
       "      <td>50</td>\n",
       "    </tr>\n",
       "    <tr>\n",
       "      <th>4</th>\n",
       "      <td>5</td>\n",
       "      <td>Laurent Abergel</td>\n",
       "      <td>FRA</td>\n",
       "      <td>MF</td>\n",
       "      <td>Lorient</td>\n",
       "      <td>Ligue 1</td>\n",
       "      <td>30</td>\n",
       "      <td>1993</td>\n",
       "      <td>15</td>\n",
       "      <td>15</td>\n",
       "      <td>...</td>\n",
       "      <td>0</td>\n",
       "      <td>0.23</td>\n",
       "      <td>2.02</td>\n",
       "      <td>0</td>\n",
       "      <td>0</td>\n",
       "      <td>0</td>\n",
       "      <td>6.51</td>\n",
       "      <td>0.31</td>\n",
       "      <td>0.39</td>\n",
       "      <td>44.4</td>\n",
       "    </tr>\n",
       "  </tbody>\n",
       "</table>\n",
       "<p>5 rows × 124 columns</p>\n",
       "</div>"
      ],
      "text/plain": [
       "2689 Rk             Player Nation   Pos         Squad            Comp Age  \\\n",
       "0     1   Brenden Aaronson    USA  MFFW  Leeds United  Premier League  22   \n",
       "1     2   Yunis Abdelhamid    MAR    DF         Reims         Ligue 1  35   \n",
       "2     3      Himad Abdelli    FRA  MFFW        Angers         Ligue 1  23   \n",
       "3     4  Salis Abdul Samed    GHA    MF          Lens         Ligue 1  22   \n",
       "4     5    Laurent Abergel    FRA    MF       Lorient         Ligue 1  30   \n",
       "\n",
       "2689  Born  MP Starts  ...   Off   Crs  TklW PKwon PKcon    OG Recov AerWon  \\\n",
       "0     2000  20     19  ...  0.17  2.54  0.51     0     0     0  4.86   0.34   \n",
       "1     1987  22     22  ...  0.05  0.18  1.59     0     0     0  6.64   2.18   \n",
       "2     1999  14      8  ...     0  1.05   1.4     0     0     0  8.14   0.93   \n",
       "3     2000  20     20  ...     0  0.35   0.8     0     0  0.05   6.6    0.5   \n",
       "4     1993  15     15  ...     0  0.23  2.02     0     0     0  6.51   0.31   \n",
       "\n",
       "2689 AerLost AerWon%  \n",
       "0       1.19    22.2  \n",
       "1       1.23      64  \n",
       "2       1.05    47.1  \n",
       "3        0.5      50  \n",
       "4       0.39    44.4  \n",
       "\n",
       "[5 rows x 124 columns]"
      ]
     },
     "execution_count": 175,
     "metadata": {},
     "output_type": "execute_result"
    }
   ],
   "source": [
    "## Data Preprocessing\n",
    "raw_dataset_23.loc[len(raw_dataset_23)] = raw_dataset_23.columns\n",
    "\n",
    "raw_dataset_23 = raw_dataset_23.iloc[:,0].str.split(\";\", expand=True)\n",
    "raw_dataset_23.columns =raw_dataset_23.iloc[len(raw_dataset_23)-1]\n",
    "\n",
    "raw_dataset_23 = raw_dataset_23.drop(index =len(raw_dataset_23)-1)\n",
    "\n",
    "raw_dataset_23.head()"
   ]
  },
  {
   "cell_type": "markdown",
   "id": "6d125f1a",
   "metadata": {},
   "source": [
    "Here we are going to delete all the non common columns between the two datasets and the duplicated row."
   ]
  },
  {
   "cell_type": "code",
   "execution_count": 176,
   "id": "c96db4bf",
   "metadata": {},
   "outputs": [],
   "source": [
    "common_columns = raw_dataset_23.columns.intersection(raw_dataset_22.columns)\n",
    "\n",
    "raw_dataset_22 = raw_dataset_22[common_columns]\n",
    "raw_dataset_23 = raw_dataset_23[common_columns]\n",
    "\n",
    "# Remove duplicates from the dataset\n",
    "raw_dataset_22 = raw_dataset_22[~raw_dataset_22['Player'].duplicated(keep=False)]\n",
    "\n",
    "# Remove Javier Llabrés from the datasets because the row in dataset 2021-2022 is incompleted\n",
    "raw_dataset_22 = raw_dataset_22[raw_dataset_22['Player'] != 'Javier Llabrés']\n",
    "raw_dataset_23 = raw_dataset_23[raw_dataset_23['Player'] != 'Javier Llabrés']\n",
    "raw_dataset_22 = raw_dataset_22[raw_dataset_22['Pos'] != 'GKMF']\n"
   ]
  },
  {
   "cell_type": "markdown",
   "id": "84427530",
   "metadata": {},
   "source": [
    "In this section we choose which columns of datasets that we want keep and which must be converted"
   ]
  },
  {
   "cell_type": "code",
   "execution_count": 177,
   "id": "d8267a6a",
   "metadata": {},
   "outputs": [
    {
     "name": "stderr",
     "output_type": "stream",
     "text": [
      "/tmp/ipykernel_2076/1710157992.py:13: SettingWithCopyWarning: \n",
      "A value is trying to be set on a copy of a slice from a DataFrame.\n",
      "Try using .loc[row_indexer,col_indexer] = value instead\n",
      "\n",
      "See the caveats in the documentation: https://pandas.pydata.org/pandas-docs/stable/user_guide/indexing.html#returning-a-view-versus-a-copy\n",
      "  dataset_22[col] = dataset_22[col].apply(lambda col: pd.to_numeric(col, errors='coerce'))\n",
      "/tmp/ipykernel_2076/1710157992.py:14: SettingWithCopyWarning: \n",
      "A value is trying to be set on a copy of a slice from a DataFrame.\n",
      "Try using .loc[row_indexer,col_indexer] = value instead\n",
      "\n",
      "See the caveats in the documentation: https://pandas.pydata.org/pandas-docs/stable/user_guide/indexing.html#returning-a-view-versus-a-copy\n",
      "  dataset_23[col] = dataset_23[col].apply(lambda col: pd.to_numeric(col, errors='coerce'))\n"
     ]
    }
   ],
   "source": [
    "columns_to_keep = [\"Player\", \"Nation\", \"Pos\", \"Squad\", \"Comp\", \"Age\", \"Min\", \"MP\", \"SoT%\", \"PasTotCmp%\", \"Goals\", \"Assists\", \"TklWon\" ,\"Shots\", \"SoT\", \"ShoDist\", \"ShoPK\", \"PasTotCmp\", \"ScaSh\", \"GCA\", \"PKatt\", \"Touches\", \"PasTotDist\", \"PasAss\", \"CrsPA\", \"ScaPassLive\", \"Carries\", \"CarPrgDist\", \"PPA\", \"Tkl\", \"Int\", \"Clr\",\"BlkSh\", \"TouDef3rd\", \"AerWon\", \"Err\", \"Fls\", \"PasLonCmp\", \"PasLonAtt\", \"PasDead\", \"CrdY\", \"CrdR\", \"Recov\"]\n",
    "columns_to_convert = [\"Age\", \"Min\", \"MP\", \"SoT%\", \"PasTotCmp%\", \"Goals\", \"Assists\", \"TklWon\" , \"Shots\", \"SoT\", \"ShoDist\", \"ShoPK\", \"PasTotCmp\", \"ScaSh\", \"GCA\", \"PKatt\", \"Touches\", \"PasTotDist\", \"PasAss\", \"CrsPA\", \"ScaPassLive\", \"Carries\", \"CarPrgDist\", \"PPA\", \"Tkl\", \"Int\", \"Clr\",\"BlkSh\", \"TouDef3rd\", \"AerWon\", \"Err\", \"Fls\", \"PasLonCmp\", \"PasLonAtt\", \"PasDead\", \"CrdY\", \"CrdR\", \"Recov\"]\n",
    "\n",
    "raw_dataset_22[\"Min\"] = raw_dataset_22[\"Min\"].apply(lambda col: pd.to_numeric(col, errors='coerce'))\n",
    "raw_dataset_23[\"Min\"] = raw_dataset_23[\"Min\"].apply(lambda col: pd.to_numeric(col, errors='coerce'))\n",
    "\n",
    "column_not_to_norm = [\"Player\", \"Nation\", \"Pos\", \"Comp\", \"Age\", \"Min\", \"MP\", \"SoT%\", \"PasTotCmp%\"]\n",
    "\n",
    "dataset_22 = raw_dataset_22[columns_to_keep]\n",
    "dataset_23 = raw_dataset_23[columns_to_keep]\n",
    "\n",
    "for col in columns_to_convert:\n",
    "    dataset_22[col] = dataset_22[col].apply(lambda col: pd.to_numeric(col, errors='coerce'))\n",
    "    dataset_23[col] = dataset_23[col].apply(lambda col: pd.to_numeric(col, errors='coerce'))\n",
    "\n",
    "for col in columns_to_convert:\n",
    "    dataset_22.loc[:, col] = pd.to_numeric(dataset_22[col], errors='coerce')\n",
    "    dataset_23.loc[:, col] = pd.to_numeric(dataset_23[col], errors='coerce')\n",
    "\n",
    "# verifica valori tra prima e dopo"
   ]
  },
  {
   "cell_type": "markdown",
   "id": "5d2c1cd6",
   "metadata": {},
   "source": [
    "In this section we are going to normalize certain columns for the season."
   ]
  },
  {
   "cell_type": "code",
   "execution_count": 178,
   "id": "98dde1ce",
   "metadata": {},
   "outputs": [
    {
     "data": {
      "text/html": [
       "<div>\n",
       "<style scoped>\n",
       "    .dataframe tbody tr th:only-of-type {\n",
       "        vertical-align: middle;\n",
       "    }\n",
       "\n",
       "    .dataframe tbody tr th {\n",
       "        vertical-align: top;\n",
       "    }\n",
       "\n",
       "    .dataframe thead th {\n",
       "        text-align: right;\n",
       "    }\n",
       "</style>\n",
       "<table border=\"1\" class=\"dataframe\">\n",
       "  <thead>\n",
       "    <tr style=\"text-align: right;\">\n",
       "      <th>2921</th>\n",
       "      <th>Player</th>\n",
       "      <th>Nation</th>\n",
       "      <th>Pos</th>\n",
       "      <th>Squad</th>\n",
       "      <th>Comp</th>\n",
       "      <th>Age</th>\n",
       "      <th>Min</th>\n",
       "      <th>MP</th>\n",
       "      <th>SoT%</th>\n",
       "      <th>PasTotCmp%</th>\n",
       "      <th>...</th>\n",
       "      <th>TouDef3rd</th>\n",
       "      <th>AerWon</th>\n",
       "      <th>Err</th>\n",
       "      <th>Fls</th>\n",
       "      <th>PasLonCmp</th>\n",
       "      <th>PasLonAtt</th>\n",
       "      <th>PasDead</th>\n",
       "      <th>CrdY</th>\n",
       "      <th>CrdR</th>\n",
       "      <th>Recov</th>\n",
       "    </tr>\n",
       "  </thead>\n",
       "  <tbody>\n",
       "    <tr>\n",
       "      <th>0</th>\n",
       "      <td>Max Aarons</td>\n",
       "      <td>ENG</td>\n",
       "      <td>DF</td>\n",
       "      <td>Norwich City</td>\n",
       "      <td>Premier League</td>\n",
       "      <td>22</td>\n",
       "      <td>2881</td>\n",
       "      <td>34</td>\n",
       "      <td>15.4</td>\n",
       "      <td>75.5</td>\n",
       "      <td>...</td>\n",
       "      <td>746.0</td>\n",
       "      <td>15.0</td>\n",
       "      <td>0.0</td>\n",
       "      <td>31.0</td>\n",
       "      <td>98.0</td>\n",
       "      <td>217.0</td>\n",
       "      <td>339.0</td>\n",
       "      <td>0.25</td>\n",
       "      <td>0.0</td>\n",
       "      <td>177.0</td>\n",
       "    </tr>\n",
       "    <tr>\n",
       "      <th>1</th>\n",
       "      <td>Yunis Abdelhamid</td>\n",
       "      <td>MAR</td>\n",
       "      <td>DF</td>\n",
       "      <td>Reims</td>\n",
       "      <td>Ligue 1</td>\n",
       "      <td>34</td>\n",
       "      <td>2983</td>\n",
       "      <td>34</td>\n",
       "      <td>33.3</td>\n",
       "      <td>82.4</td>\n",
       "      <td>...</td>\n",
       "      <td>1087.0</td>\n",
       "      <td>67.0</td>\n",
       "      <td>0.0</td>\n",
       "      <td>43.0</td>\n",
       "      <td>187.0</td>\n",
       "      <td>303.0</td>\n",
       "      <td>100.0</td>\n",
       "      <td>0.15</td>\n",
       "      <td>1.0</td>\n",
       "      <td>224.0</td>\n",
       "    </tr>\n",
       "    <tr>\n",
       "      <th>2</th>\n",
       "      <td>Salis Abdul Samed</td>\n",
       "      <td>GHA</td>\n",
       "      <td>MF</td>\n",
       "      <td>Clermont Foot</td>\n",
       "      <td>Ligue 1</td>\n",
       "      <td>22</td>\n",
       "      <td>2462</td>\n",
       "      <td>31</td>\n",
       "      <td>27.8</td>\n",
       "      <td>91.7</td>\n",
       "      <td>...</td>\n",
       "      <td>621.0</td>\n",
       "      <td>24.0</td>\n",
       "      <td>0.0</td>\n",
       "      <td>45.0</td>\n",
       "      <td>184.0</td>\n",
       "      <td>214.0</td>\n",
       "      <td>20.0</td>\n",
       "      <td>0.44</td>\n",
       "      <td>3.0</td>\n",
       "      <td>240.0</td>\n",
       "    </tr>\n",
       "    <tr>\n",
       "      <th>3</th>\n",
       "      <td>Laurent Abergel</td>\n",
       "      <td>FRA</td>\n",
       "      <td>MF</td>\n",
       "      <td>Lorient</td>\n",
       "      <td>Ligue 1</td>\n",
       "      <td>29</td>\n",
       "      <td>2956</td>\n",
       "      <td>34</td>\n",
       "      <td>23.3</td>\n",
       "      <td>81.6</td>\n",
       "      <td>...</td>\n",
       "      <td>450.0</td>\n",
       "      <td>14.0</td>\n",
       "      <td>0.0</td>\n",
       "      <td>46.0</td>\n",
       "      <td>205.0</td>\n",
       "      <td>308.0</td>\n",
       "      <td>28.0</td>\n",
       "      <td>0.27</td>\n",
       "      <td>0.0</td>\n",
       "      <td>291.0</td>\n",
       "    </tr>\n",
       "    <tr>\n",
       "      <th>4</th>\n",
       "      <td>Charles Abi</td>\n",
       "      <td>FRA</td>\n",
       "      <td>FW</td>\n",
       "      <td>Saint-Étienne</td>\n",
       "      <td>Ligue 1</td>\n",
       "      <td>22</td>\n",
       "      <td>45</td>\n",
       "      <td>1</td>\n",
       "      <td>0.0</td>\n",
       "      <td>33.3</td>\n",
       "      <td>...</td>\n",
       "      <td>0.0</td>\n",
       "      <td>1.0</td>\n",
       "      <td>0.0</td>\n",
       "      <td>1.0</td>\n",
       "      <td>0.0</td>\n",
       "      <td>0.0</td>\n",
       "      <td>0.0</td>\n",
       "      <td>0.00</td>\n",
       "      <td>0.0</td>\n",
       "      <td>2.0</td>\n",
       "    </tr>\n",
       "  </tbody>\n",
       "</table>\n",
       "<p>5 rows × 43 columns</p>\n",
       "</div>"
      ],
      "text/plain": [
       "2921             Player Nation Pos          Squad            Comp  Age   Min  \\\n",
       "0            Max Aarons    ENG  DF   Norwich City  Premier League   22  2881   \n",
       "1      Yunis Abdelhamid    MAR  DF          Reims         Ligue 1   34  2983   \n",
       "2     Salis Abdul Samed    GHA  MF  Clermont Foot         Ligue 1   22  2462   \n",
       "3       Laurent Abergel    FRA  MF        Lorient         Ligue 1   29  2956   \n",
       "4           Charles Abi    FRA  FW  Saint-Étienne         Ligue 1   22    45   \n",
       "\n",
       "2921  MP  SoT%  PasTotCmp%  ...  TouDef3rd  AerWon  Err   Fls  PasLonCmp  \\\n",
       "0     34  15.4        75.5  ...      746.0    15.0  0.0  31.0       98.0   \n",
       "1     34  33.3        82.4  ...     1087.0    67.0  0.0  43.0      187.0   \n",
       "2     31  27.8        91.7  ...      621.0    24.0  0.0  45.0      184.0   \n",
       "3     34  23.3        81.6  ...      450.0    14.0  0.0  46.0      205.0   \n",
       "4      1   0.0        33.3  ...        0.0     1.0  0.0   1.0        0.0   \n",
       "\n",
       "2921  PasLonAtt  PasDead  CrdY  CrdR  Recov  \n",
       "0         217.0    339.0  0.25   0.0  177.0  \n",
       "1         303.0    100.0  0.15   1.0  224.0  \n",
       "2         214.0     20.0  0.44   3.0  240.0  \n",
       "3         308.0     28.0  0.27   0.0  291.0  \n",
       "4           0.0      0.0  0.00   0.0    2.0  \n",
       "\n",
       "[5 rows x 43 columns]"
      ]
     },
     "execution_count": 178,
     "metadata": {},
     "output_type": "execute_result"
    }
   ],
   "source": [
    "columns_to_normalize = [\"Goals\", \"Assists\", \"TklWon\" ,\"Shots\", \"SoT\", \"ShoDist\", \"ShoPK\", \"PasTotCmp\", \"ScaSh\", \"GCA\", \"PKatt\", \"Touches\", \"PasTotDist\", \"PasAss\", \"CrsPA\", \"ScaPassLive\", \"Carries\", \"CarPrgDist\", \"PPA\", \"Tkl\", \"Int\", \"Clr\",\"BlkSh\", \"TouDef3rd\", \"AerWon\", \"Err\", \"Fls\", \"PasLonCmp\", \"PasLonAtt\", \"PasDead\", \"CrdR\", \"Recov\"]\n",
    "\n",
    "for index, line in dataset_22.iterrows():\n",
    "    for column in columns_to_normalize:\n",
    "        dataset_22.at[index, column] = round(dataset_22.at[index, column] * raw_dataset_22.at[index, \"Min\"] / 90, 0)\n",
    "\n",
    "columns_to_normalize = [ \"Assists\", \"TklWon\" ,\"Shots\", \"SoT\", \"ShoDist\", \"ShoPK\", \"PasTotCmp\", \"ScaSh\", \"GCA\", \"PKatt\", \"Touches\", \"PasTotDist\", \"PasAss\", \"CrsPA\", \"ScaPassLive\", \"Carries\", \"CarPrgDist\", \"PPA\", \"Tkl\", \"Int\", \"Clr\",\"BlkSh\", \"TouDef3rd\", \"AerWon\", \"Err\", \"Fls\", \"PasLonCmp\", \"PasLonAtt\", \"PasDead\", \"CrdR\", \"Recov\"]\n",
    "\n",
    "for index, line in dataset_23.iterrows():\n",
    "    for column in columns_to_normalize:\n",
    "        dataset_23.at[index, column] = round(dataset_23.at[index, column] * raw_dataset_23.at[index, \"Min\"] / 90, 0)\n",
    "\n",
    "dataset_22.head()"
   ]
  },
  {
   "cell_type": "code",
   "execution_count": 179,
   "id": "883d4a22",
   "metadata": {},
   "outputs": [
    {
     "data": {
      "text/html": [
       "<div>\n",
       "<style scoped>\n",
       "    .dataframe tbody tr th:only-of-type {\n",
       "        vertical-align: middle;\n",
       "    }\n",
       "\n",
       "    .dataframe tbody tr th {\n",
       "        vertical-align: top;\n",
       "    }\n",
       "\n",
       "    .dataframe thead th {\n",
       "        text-align: right;\n",
       "    }\n",
       "</style>\n",
       "<table border=\"1\" class=\"dataframe\">\n",
       "  <thead>\n",
       "    <tr style=\"text-align: right;\">\n",
       "      <th>2689</th>\n",
       "      <th>Player</th>\n",
       "      <th>Nation</th>\n",
       "      <th>Pos</th>\n",
       "      <th>Squad</th>\n",
       "      <th>Comp</th>\n",
       "      <th>Age</th>\n",
       "      <th>Min</th>\n",
       "      <th>MP</th>\n",
       "      <th>SoT%</th>\n",
       "      <th>PasTotCmp%</th>\n",
       "      <th>...</th>\n",
       "      <th>TouDef3rd</th>\n",
       "      <th>AerWon</th>\n",
       "      <th>Err</th>\n",
       "      <th>Fls</th>\n",
       "      <th>PasLonCmp</th>\n",
       "      <th>PasLonAtt</th>\n",
       "      <th>PasDead</th>\n",
       "      <th>CrdY</th>\n",
       "      <th>CrdR</th>\n",
       "      <th>Recov</th>\n",
       "    </tr>\n",
       "  </thead>\n",
       "  <tbody>\n",
       "    <tr>\n",
       "      <th>0</th>\n",
       "      <td>Brenden Aaronson</td>\n",
       "      <td>USA</td>\n",
       "      <td>MFFW</td>\n",
       "      <td>Leeds United</td>\n",
       "      <td>Premier League</td>\n",
       "      <td>22</td>\n",
       "      <td>1596</td>\n",
       "      <td>20</td>\n",
       "      <td>18.5</td>\n",
       "      <td>74.9</td>\n",
       "      <td>...</td>\n",
       "      <td>77.0</td>\n",
       "      <td>6.0</td>\n",
       "      <td>1.0</td>\n",
       "      <td>11.0</td>\n",
       "      <td>16.0</td>\n",
       "      <td>42.0</td>\n",
       "      <td>51.0</td>\n",
       "      <td>0.11</td>\n",
       "      <td>0.0</td>\n",
       "      <td>86.0</td>\n",
       "    </tr>\n",
       "    <tr>\n",
       "      <th>1</th>\n",
       "      <td>Yunis Abdelhamid</td>\n",
       "      <td>MAR</td>\n",
       "      <td>DF</td>\n",
       "      <td>Reims</td>\n",
       "      <td>Ligue 1</td>\n",
       "      <td>35</td>\n",
       "      <td>1980</td>\n",
       "      <td>22</td>\n",
       "      <td>5.3</td>\n",
       "      <td>81.5</td>\n",
       "      <td>...</td>\n",
       "      <td>605.0</td>\n",
       "      <td>48.0</td>\n",
       "      <td>1.0</td>\n",
       "      <td>29.0</td>\n",
       "      <td>83.0</td>\n",
       "      <td>154.0</td>\n",
       "      <td>82.0</td>\n",
       "      <td>0.09</td>\n",
       "      <td>0.0</td>\n",
       "      <td>146.0</td>\n",
       "    </tr>\n",
       "    <tr>\n",
       "      <th>2</th>\n",
       "      <td>Himad Abdelli</td>\n",
       "      <td>FRA</td>\n",
       "      <td>MFFW</td>\n",
       "      <td>Angers</td>\n",
       "      <td>Ligue 1</td>\n",
       "      <td>23</td>\n",
       "      <td>770</td>\n",
       "      <td>14</td>\n",
       "      <td>33.3</td>\n",
       "      <td>80.8</td>\n",
       "      <td>...</td>\n",
       "      <td>98.0</td>\n",
       "      <td>8.0</td>\n",
       "      <td>0.0</td>\n",
       "      <td>15.0</td>\n",
       "      <td>38.0</td>\n",
       "      <td>51.0</td>\n",
       "      <td>10.0</td>\n",
       "      <td>0.12</td>\n",
       "      <td>0.0</td>\n",
       "      <td>70.0</td>\n",
       "    </tr>\n",
       "    <tr>\n",
       "      <th>3</th>\n",
       "      <td>Salis Abdul Samed</td>\n",
       "      <td>GHA</td>\n",
       "      <td>MF</td>\n",
       "      <td>Lens</td>\n",
       "      <td>Ligue 1</td>\n",
       "      <td>22</td>\n",
       "      <td>1799</td>\n",
       "      <td>20</td>\n",
       "      <td>25.0</td>\n",
       "      <td>91.6</td>\n",
       "      <td>...</td>\n",
       "      <td>240.0</td>\n",
       "      <td>10.0</td>\n",
       "      <td>0.0</td>\n",
       "      <td>49.0</td>\n",
       "      <td>67.0</td>\n",
       "      <td>86.0</td>\n",
       "      <td>28.0</td>\n",
       "      <td>0.15</td>\n",
       "      <td>0.0</td>\n",
       "      <td>132.0</td>\n",
       "    </tr>\n",
       "    <tr>\n",
       "      <th>4</th>\n",
       "      <td>Laurent Abergel</td>\n",
       "      <td>FRA</td>\n",
       "      <td>MF</td>\n",
       "      <td>Lorient</td>\n",
       "      <td>Ligue 1</td>\n",
       "      <td>30</td>\n",
       "      <td>1165</td>\n",
       "      <td>15</td>\n",
       "      <td>0.0</td>\n",
       "      <td>87.3</td>\n",
       "      <td>...</td>\n",
       "      <td>249.0</td>\n",
       "      <td>4.0</td>\n",
       "      <td>0.0</td>\n",
       "      <td>12.0</td>\n",
       "      <td>34.0</td>\n",
       "      <td>51.0</td>\n",
       "      <td>10.0</td>\n",
       "      <td>0.16</td>\n",
       "      <td>0.0</td>\n",
       "      <td>84.0</td>\n",
       "    </tr>\n",
       "  </tbody>\n",
       "</table>\n",
       "<p>5 rows × 43 columns</p>\n",
       "</div>"
      ],
      "text/plain": [
       "2689             Player Nation   Pos         Squad            Comp  Age   Min  \\\n",
       "0      Brenden Aaronson    USA  MFFW  Leeds United  Premier League   22  1596   \n",
       "1      Yunis Abdelhamid    MAR    DF         Reims         Ligue 1   35  1980   \n",
       "2         Himad Abdelli    FRA  MFFW        Angers         Ligue 1   23   770   \n",
       "3     Salis Abdul Samed    GHA    MF          Lens         Ligue 1   22  1799   \n",
       "4       Laurent Abergel    FRA    MF       Lorient         Ligue 1   30  1165   \n",
       "\n",
       "2689  MP  SoT%  PasTotCmp%  ...  TouDef3rd  AerWon  Err   Fls  PasLonCmp  \\\n",
       "0     20  18.5        74.9  ...       77.0     6.0  1.0  11.0       16.0   \n",
       "1     22   5.3        81.5  ...      605.0    48.0  1.0  29.0       83.0   \n",
       "2     14  33.3        80.8  ...       98.0     8.0  0.0  15.0       38.0   \n",
       "3     20  25.0        91.6  ...      240.0    10.0  0.0  49.0       67.0   \n",
       "4     15   0.0        87.3  ...      249.0     4.0  0.0  12.0       34.0   \n",
       "\n",
       "2689  PasLonAtt  PasDead  CrdY  CrdR  Recov  \n",
       "0          42.0     51.0  0.11   0.0   86.0  \n",
       "1         154.0     82.0  0.09   0.0  146.0  \n",
       "2          51.0     10.0  0.12   0.0   70.0  \n",
       "3          86.0     28.0  0.15   0.0  132.0  \n",
       "4          51.0     10.0  0.16   0.0   84.0  \n",
       "\n",
       "[5 rows x 43 columns]"
      ]
     },
     "execution_count": 179,
     "metadata": {},
     "output_type": "execute_result"
    }
   ],
   "source": [
    "dataset_23.head()"
   ]
  },
  {
   "cell_type": "markdown",
   "id": "f6fdf9cf",
   "metadata": {},
   "source": [
    "## Visualization part"
   ]
  },
  {
   "cell_type": "markdown",
   "id": "7bc28afb",
   "metadata": {},
   "source": [
    "### Distribution of Minutes Played\n",
    "### From the chart below, we observe that:"
   ]
  },
  {
   "cell_type": "code",
   "execution_count": 180,
   "id": "997965d8",
   "metadata": {},
   "outputs": [
    {
     "data": {
      "image/png": "[encoded data removed]",
      "text/plain": [
       "<Figure size 640x480 with 1 Axes>"
      ]
     },
     "metadata": {},
     "output_type": "display_data"
    }
   ],
   "source": [
    "plt.hist(dataset_22[\"Min\"], bins=20, alpha=0.7, label=\"2021-2022\")\n",
    "plt.xlabel(\"Minutes Played\")\n",
    "plt.ylabel(\"Frequency\")\n",
    "plt.title(\"Distribution of Minutes Played\")\n",
    "plt.legend()\n",
    "plt.show()"
   ]
  },
  {
   "cell_type": "markdown",
   "id": "03c2be3f",
   "metadata": {},
   "source": [
    "#### Observation:\n",
    "The highest bar is located on the far left, close to zero. This indicates that a large number of players played a very low number of minutes during the season. This leads to the conclusion that these players are substitutes, debutants, or have suffered injuries. \n",
    "After that, a general decrease in the number of players is noticeable as the minutes played increase."
   ]
  },
  {
   "cell_type": "markdown",
   "id": "d0a903b3",
   "metadata": {},
   "source": [
    "### Boxplot of the Number of Goals by Each Player Based on Position"
   ]
  },
  {
   "cell_type": "code",
   "execution_count": 181,
   "id": "1921a8bf",
   "metadata": {},
   "outputs": [
    {
     "data": {
      "image/png": "[encoded data removed]",
      "text/plain": [
       "<Figure size 1000x500 with 1 Axes>"
      ]
     },
     "metadata": {},
     "output_type": "display_data"
    }
   ],
   "source": [
    "dataset_22.boxplot(column=\"Goals\", by=\"Pos\", grid=False, figsize=(10, 5))\n",
    "plt.show()"
   ]
  },
  {
   "cell_type": "markdown",
   "id": "a4bd269c",
   "metadata": {},
   "source": [
    "#### In the chart we observe that:\n",
    "\n",
    "- Forwards (FW) are clearly the position with the highest number of goals scored; in fact, the median is the highest among all roles. Furthermore, for this role, there are very high outlier values, indicating some forwards with a number of goals significantly above the average.\n",
    "\n",
    "- Attacking midfielders and wingers (FWMF, FWDF, MFFW) tend to score more goals compared to defenders and central midfielders, as expected. Meanwhile, central midfielders and defensive midfielders (MF, MFDF) tend to score fewer goals, and the outliers are less frequent.\n",
    "\n",
    "- Defenders (DF), including those with more offensive duties (DFFW, DFMF), generally show the lowest number of goals scored; in fact, their medians are very low, close to zero, and the outliers, while present, naturally reach lower values compared to forwards and attacking midfielders.\n",
    "\n",
    "- Goalkeepers (GK), as expected, almost always score zero goals. A hypothetical outlier would suggest a very rare case of a goal scored by a goalkeeper."
   ]
  },
  {
   "cell_type": "markdown",
   "id": "a6686ef0",
   "metadata": {},
   "source": [
    "### Boxplot of the Number of Assists Served by Each Player in Various Leagues"
   ]
  },
  {
   "cell_type": "code",
   "execution_count": 182,
   "id": "05e8bb7e",
   "metadata": {},
   "outputs": [
    {
     "data": {
      "image/png": "[encoded data removed]",
      "text/plain": [
       "<Figure size 1000x500 with 1 Axes>"
      ]
     },
     "metadata": {},
     "output_type": "display_data"
    }
   ],
   "source": [
    "dataset_22.boxplot(column=\"Goals\", by=\"Comp\", grid=False, figsize=(10, 5))\n",
    "plt.show()"
   ]
  },
  {
   "cell_type": "markdown",
   "id": "3058cfa2",
   "metadata": {},
   "source": [
    "#### In the chart we observe that:\n",
    "The chart shows that the distributions are similar across the different Comp. Even the number and ditridutions of the outliers is similar for each Comp.        \n",
    "It's possible to observe that the median of the assist is near 0. The only except is the Premier League that has an little higher median.       \n",
    "Looking at the outlier ditribution across the Comp it's clear that the League 1 and Bundesliga has got the better assist-men"
   ]
  },
  {
   "cell_type": "markdown",
   "id": "fe6d7521",
   "metadata": {},
   "source": [
    "## OLAP\n",
    "Here in this section we're going to use an OLAP visualizations of the dataset.      \n",
    "The OLAP cube'll have three dimentions (Assists, Age, Comp) "
   ]
  },
  {
   "cell_type": "code",
   "execution_count": 183,
   "id": "8caf2145",
   "metadata": {},
   "outputs": [],
   "source": [
    "dataset_22_OLAP = dataset_22"
   ]
  },
  {
   "cell_type": "markdown",
   "id": "ac4bd0cb",
   "metadata": {},
   "source": [
    "In this section we are going to quantize Comp, Age, Assists and Min\n"
   ]
  },
  {
   "cell_type": "code",
   "execution_count": 184,
   "id": "a61dd3a4",
   "metadata": {},
   "outputs": [
    {
     "name": "stderr",
     "output_type": "stream",
     "text": [
      "/tmp/ipykernel_2076/3455102186.py:3: SettingWithCopyWarning: \n",
      "A value is trying to be set on a copy of a slice from a DataFrame.\n",
      "Try using .loc[row_indexer,col_indexer] = value instead\n",
      "\n",
      "See the caveats in the documentation: https://pandas.pydata.org/pandas-docs/stable/user_guide/indexing.html#returning-a-view-versus-a-copy\n",
      "  dataset_22_OLAP.loc[dataset_22_OLAP['Age'].between(16,21,'both'),'quantize_age'] = 'YOUNG'\n",
      "/tmp/ipykernel_2076/3455102186.py:9: SettingWithCopyWarning: \n",
      "A value is trying to be set on a copy of a slice from a DataFrame.\n",
      "Try using .loc[row_indexer,col_indexer] = value instead\n",
      "\n",
      "See the caveats in the documentation: https://pandas.pydata.org/pandas-docs/stable/user_guide/indexing.html#returning-a-view-versus-a-copy\n",
      "  dataset_22_OLAP.loc[dataset_22_OLAP['Assists'].between(0.0,4.9,'both'),'quantize_assists'] = 'NOTHING'\n",
      "/tmp/ipykernel_2076/3455102186.py:15: SettingWithCopyWarning: \n",
      "A value is trying to be set on a copy of a slice from a DataFrame.\n",
      "Try using .loc[row_indexer,col_indexer] = value instead\n",
      "\n",
      "See the caveats in the documentation: https://pandas.pydata.org/pandas-docs/stable/user_guide/indexing.html#returning-a-view-versus-a-copy\n",
      "  dataset_22_OLAP.loc[dataset_22_OLAP['Min'].between(0,854,'both'),'quantize_min'] = 'BENCHER'\n"
     ]
    }
   ],
   "source": [
    "quantize_comp = [\"Bundesliga\", \"La Liga\", \"Ligue 1\", \"Premier League\", \"Serie A\"]\n",
    "\n",
    "dataset_22_OLAP.loc[dataset_22_OLAP['Age'].between(16,21,'both'),'quantize_age'] = 'YOUNG'\n",
    "dataset_22_OLAP.loc[dataset_22_OLAP['Age'].between(22,27,'both'),'quantize_age'] = 'PROMISE'\n",
    "dataset_22_OLAP.loc[dataset_22_OLAP['Age'].between(28,33,'both'),'quantize_age'] = 'PRIME'\n",
    "dataset_22_OLAP.loc[dataset_22_OLAP['Age'].between(34,41,'both'),'quantize_age'] = 'OLD'\n",
    "quantize_age = ['YOUNG','PROMISE','PRIME','OLD']\n",
    "\n",
    "dataset_22_OLAP.loc[dataset_22_OLAP['Assists'].between(0.0,4.9,'both'),'quantize_assists'] = 'NOTHING'\n",
    "dataset_22_OLAP.loc[dataset_22_OLAP['Assists'].between(5.0,9.9,'both'),'quantize_assists'] = 'SOLID'\n",
    "dataset_22_OLAP.loc[dataset_22_OLAP['Assists'].between(10.0,14.9,'both'),'quantize_assists'] = 'GOOD'\n",
    "dataset_22_OLAP.loc[dataset_22_OLAP['Assists'].between(15.0,19.9,'both'),'quantize_assists'] = 'EXCELLENT'\n",
    "quantize_assists = ['NOTHING','SOLID','GOOD','EXCELLENT']\n",
    "\n",
    "dataset_22_OLAP.loc[dataset_22_OLAP['Min'].between(0,854,'both'),'quantize_min'] = 'BENCHER'\n",
    "dataset_22_OLAP.loc[dataset_22_OLAP['Min'].between(855,1710,'both'),'quantize_min'] = 'SUB'\n",
    "dataset_22_OLAP.loc[dataset_22_OLAP['Min'].between(1711,2566,'both'),'quantize_min'] = 'STARTER'\n",
    "dataset_22_OLAP.loc[dataset_22_OLAP['Min'].between(2567,3420,'both'),'quantize_min'] = 'ESSENTIAL'\n",
    "quantize_min = ['BENCHER','SUB','STARTER','ESSENTIAL']"
   ]
  },
  {
   "cell_type": "markdown",
   "id": "3488dd4e",
   "metadata": {},
   "source": [
    "### OLAP visualizations"
   ]
  },
  {
   "cell_type": "code",
   "execution_count": 185,
   "id": "3e534d3d",
   "metadata": {},
   "outputs": [],
   "source": [
    "OLAP_min = np.zeros((4,4,5))\n",
    "for z in range(0,len(quantize_comp)):\n",
    "  Awards_prog_z = dataset_22_OLAP[dataset_22_OLAP['Comp'] == quantize_comp[z]]\n",
    "  for j in range(0,len(quantize_age)):\n",
    "    for i in range(0,len(quantize_min)):\n",
    "      OLAP_min[i,j,z] = np.sum((Awards_prog_z['quantize_min'] == quantize_min[i]) & (Awards_prog_z['quantize_age'] == quantize_age[j]))"
   ]
  },
  {
   "cell_type": "code",
   "execution_count": 186,
   "id": "9acac2a0",
   "metadata": {},
   "outputs": [
    {
     "data": {
      "image/png": "[encoded data removed]",
      "text/plain": [
       "<Figure size 640x480 with 2 Axes>"
      ]
     },
     "metadata": {},
     "output_type": "display_data"
    }
   ],
   "source": [
    "slice_comp = OLAP_min[:,:,0]\n",
    "\n",
    "plt.ylabel('Age')\n",
    "plt.xlabel('Min')\n",
    "plt.imshow(slice_comp)\n",
    "plt.yticks(ticks=range(len(quantize_age)), labels=quantize_age)\n",
    "plt.xticks(ticks=range(len(quantize_min)), labels=quantize_min)\n",
    "plt.colorbar()\n",
    "plt.title('OLAP')\n",
    "plt.show()"
   ]
  },
  {
   "cell_type": "markdown",
   "id": "bc9bfd6e",
   "metadata": {},
   "source": [
    "#### Observations:"
   ]
  },
  {
   "cell_type": "code",
   "execution_count": 187,
   "id": "ee328d03",
   "metadata": {},
   "outputs": [],
   "source": [
    "OLAP_assists = np.zeros((4,4,5))\n",
    "for z in range(0,len(quantize_comp)):\n",
    "  Awards_prog_z = dataset_22_OLAP[dataset_22_OLAP['Comp'] == quantize_comp[z]]\n",
    "  for j in range(0,len(quantize_age)):\n",
    "    for i in range(0,len(quantize_assists)):\n",
    "      OLAP_assists[i,j,z] = np.sum((Awards_prog_z['quantize_assists'] == quantize_assists[i]) & (Awards_prog_z['quantize_age'] == quantize_age[j]))"
   ]
  },
  {
   "cell_type": "markdown",
   "id": "6262c992",
   "metadata": {},
   "source": [
    "Slicing on the Comp column (La Liga, Spagna) such that it's possible to show Age e Assists"
   ]
  },
  {
   "cell_type": "code",
   "execution_count": 188,
   "id": "7772ece8",
   "metadata": {},
   "outputs": [
    {
     "data": {
      "image/png": "[encoded data removed]",
      "text/plain": [
       "<Figure size 640x480 with 2 Axes>"
      ]
     },
     "metadata": {},
     "output_type": "display_data"
    }
   ],
   "source": [
    "slice_comp = OLAP_assists[:,:,2]\n",
    "\n",
    "plt.ylabel('Age')\n",
    "plt.xlabel('Assists')\n",
    "plt.imshow(slice_comp)\n",
    "plt.yticks(ticks=range(len(quantize_age)), labels=quantize_age)\n",
    "plt.xticks(ticks=range(len(quantize_assists)), labels=quantize_assists)\n",
    "plt.colorbar()\n",
    "plt.title('OLAP')\n",
    "plt.show()"
   ]
  },
  {
   "cell_type": "markdown",
   "id": "70d5f26e",
   "metadata": {},
   "source": [
    "#### Observations:\n",
    "The graph shows that, as we said before, most of the player that served an assists has got between 16 to 21 years of age. In specific as we can see the yellow square is in (YOUNG, SOLID) position which means that more tha 200 player between 16-21 served 5 to 9 assists.       \n",
    "The OLAP visualization shows that in the other age it's more likely that the player didn't serve much assists."
   ]
  },
  {
   "cell_type": "markdown",
   "id": "9cf876ae",
   "metadata": {},
   "source": [
    "## Statistical Tests\n",
    "\n",
    "Sappiamo che si devono verificare alcune ipotesi:\n",
    "1. Campione con numero di elementi n > 30;\n",
    "2. Popolazione N almeno dieci volte superiore al campione N > 10*n."
   ]
  },
  {
   "cell_type": "code",
   "execution_count": null,
   "id": "a24efd7a",
   "metadata": {},
   "outputs": [],
   "source": []
  },
  {
   "cell_type": "markdown",
   "id": "be20ef3f",
   "metadata": {},
   "source": [
    "le ipotesi sono verificate, quindi possiamo applicare un t-test a due code.\n",
    "\n",
    "Scegliamo un livello di significatività di 0.05 (intervallo di confidenza di 0.95).\n",
    "\n",
    "ipotesi nulla\n",
    "\n",
    "H0 = la media degli assist in Serie A e la media degli assist in Bundesliga non sono statisticamente diverse;\n",
    "\n",
    "ipotesi alternativa\n",
    "\n",
    "HA = Le medie sono diverse.\n",
    "\n",
    "\n",
    "significatività = 0.05"
   ]
  },
  {
   "cell_type": "code",
   "execution_count": 189,
   "id": "9a9f3003",
   "metadata": {},
   "outputs": [
    {
     "name": "stdout",
     "output_type": "stream",
     "text": [
      "0.07929207467328196\n",
      "Non possiamo rigettare l'ipotesi nulla\n"
     ]
    }
   ],
   "source": [
    "t_statistic, p_value = stats.ttest_1samp(a= dataset_22['Assists'][dataset_22['Comp']=='Bundesliga'], popmean= dataset_22['Assists'][dataset_22['Comp']=='Serie A'].mean())\n",
    "print(p_value)\n",
    "if p_value >= 0.05:\n",
    "        print(\"Non possiamo rigettare l'ipotesi nulla\")\n",
    "elif p_value < 0.05:\n",
    "    # per verificare l'ordine di grandezza\n",
    "    if 0.05/p_value > 100:\n",
    "        print(\"Le medie sono diverse, accetto l'ipotesi alternativa\")\n",
    "    else:\n",
    "        print(\"Rigettiamo l'ipotesi nulla ma non possiamo accettare l'ipotesi alternativa\")"
   ]
  },
  {
   "cell_type": "markdown",
   "id": "4441c3f6",
   "metadata": {},
   "source": [
    "in base al risultato del ttest si deduce che non si sa se le due medie sono statisticamente diverse questo perche \n",
    "le due medie sono molto vicine tra di loro\n",
    "percui ora andiamo a verificare piu nello specifico"
   ]
  },
  {
   "cell_type": "markdown",
   "id": "42a67f06",
   "metadata": {},
   "source": [
    "Scegliamo un livello di significatività di 0.05 (intervallo di confidenza di 0.95).\n",
    "\n",
    "ipotesi nulla\n",
    "\n",
    "H0 = la media dei goal in Serie A è inferiore rispetto alla media dei gol in Bundesliga;\n",
    "\n",
    "ipotesi alternativa\n",
    "\n",
    "HA = la media dei goal in Serie A non è inferiore rispetto alla media dei gol in Bundesliga.\n",
    "\n",
    "\n",
    "significatività = 0.05"
   ]
  },
  {
   "cell_type": "code",
   "execution_count": 190,
   "id": "a93c33b6",
   "metadata": {},
   "outputs": [
    {
     "name": "stdout",
     "output_type": "stream",
     "text": [
      "0.960353962663359\n",
      "Non possiamo rigettare l'ipotesi nulla\n"
     ]
    }
   ],
   "source": [
    "# ttest ind da usare perché indipendenti\n",
    "t_statistic, p_value = stats.ttest_1samp(a= dataset_22['Assists'][dataset_22['Comp']=='Bundesliga'], popmean= dataset_22['Assists'][dataset_22['Comp']=='Serie A'].mean(), alternative= 'less')\n",
    "print(p_value)\n",
    "if p_value >= 0.05:\n",
    "        print(\"Non possiamo rigettare l'ipotesi nulla\")\n",
    "elif p_value < 0.05:\n",
    "    if 0.05/p_value > 100:\n",
    "        print(\"Le medie sono diverse, accetto l'ipotesi alternativa\")\n",
    "    else:\n",
    "        print(\"Rigettiamo l'ipotesi nulla ma non possiamo accettare l'ipotesi alternativa\")"
   ]
  },
  {
   "cell_type": "markdown",
   "id": "0a82a9e5",
   "metadata": {},
   "source": [
    "#### Sanity check"
   ]
  },
  {
   "cell_type": "code",
   "execution_count": 191,
   "id": "c8443503",
   "metadata": {},
   "outputs": [
    {
     "name": "stdout",
     "output_type": "stream",
     "text": [
      "0.03964603733664098\n",
      "Rigettiamo l'ipotesi nulla ma non possiamo accettare l'ipotesi alternativa\n"
     ]
    }
   ],
   "source": [
    "t_statistic, p_value = stats.ttest_1samp(a= dataset_22['Assists'][dataset_22['Comp']=='Bundesliga'], popmean= dataset_22['Assists'][dataset_22['Comp']=='Serie A'].mean(), alternative= 'greater')\n",
    "print(p_value)\n",
    "if p_value >= 0.05:\n",
    "        print(\"Non possiamo rigettare l'ipotesi nulla\")\n",
    "elif p_value < 0.05:\n",
    "    if 0.05/p_value > 100:\n",
    "        print(\"Le medie sono diverse, accetto l'ipotesi alternativa\")\n",
    "    else:\n",
    "        print(\"Rigettiamo l'ipotesi nulla ma non possiamo accettare l'ipotesi alternativa\")"
   ]
  },
  {
   "cell_type": "markdown",
   "id": "2e94f191",
   "metadata": {},
   "source": [
    "Addestramento AI"
   ]
  },
  {
   "cell_type": "markdown",
   "id": "2c71b42c",
   "metadata": {},
   "source": [
    "ATTACCANTI"
   ]
  },
  {
   "cell_type": "code",
   "execution_count": 192,
   "id": "24e7aa76",
   "metadata": {},
   "outputs": [],
   "source": [
    "position = ['FW', 'FWMF', 'MFFW', 'FWDF']\n",
    "forwards_data_train = dataset_22[dataset_22['Pos'].isin(position)]\n",
    "forwards_data_test = dataset_23[dataset_23['Pos'].isin(position)]\n",
    "\n",
    "features = ['Shots', 'SoT', 'SoT%', 'ShoDist', 'ShoPK', 'PasTotCmp', 'Assists', 'ScaSh', 'GCA', 'PKatt']\n",
    "target = 'Goals'\n",
    "\n",
    "X_train = forwards_data_train[features]\n",
    "y_train = forwards_data_train[target]\n",
    "\n",
    "X_test = forwards_data_test[features]\n",
    "y_test = forwards_data_test[target]\n",
    "\n",
    "striker_pridction = LinearRegression()\n",
    "striker_pridction.fit(X_train, y_train)\n",
    "\n",
    "y_pred = striker_pridction.predict(X_test)\n",
    "y_pred_rounded = np.round(y_pred).astype(int)"
   ]
  },
  {
   "cell_type": "code",
   "execution_count": 193,
   "id": "2e7bc67f",
   "metadata": {},
   "outputs": [
    {
     "name": "stdout",
     "output_type": "stream",
     "text": [
      "2689        Player  Goals  Predicted Goals\n",
      "1650  Lionel Messi     10               14\n"
     ]
    }
   ],
   "source": [
    "comparison_df = forwards_data_test[['Player', 'Goals']].copy()\n",
    "comparison_df['Predicted Goals'] = y_pred_rounded\n",
    "\n",
    "# Visualizzare il confronto\n",
    "#print(comparison_df)\n",
    "\n",
    "# Esempio: filtrare un giocatore specifico\n",
    "player_name = \"Lionel Messi\"  # Sostituisci con il nome del giocatore\n",
    "player_comparison = comparison_df[comparison_df['Player'] == player_name]\n",
    "print(player_comparison)"
   ]
  },
  {
   "cell_type": "code",
   "execution_count": 194,
   "id": "62ace2a9",
   "metadata": {},
   "outputs": [
    {
     "name": "stdout",
     "output_type": "stream",
     "text": [
      "Mean Squared Error: 1.5310536295654764\n"
     ]
    }
   ],
   "source": [
    "mse = mean_squared_error(y_test, y_pred)\n",
    "print(\"Mean Squared Error:\", mse)"
   ]
  },
  {
   "cell_type": "code",
   "execution_count": 195,
   "id": "7638b210",
   "metadata": {},
   "outputs": [
    {
     "data": {
      "text/plain": [
       "Text(0.5, 1.0, 'Actual vs Predicted Goals')"
      ]
     },
     "execution_count": 195,
     "metadata": {},
     "output_type": "execute_result"
    },
    {
     "data": {
      "image/png": "[encoded data removed]",
      "text/plain": [
       "<Figure size 800x600 with 1 Axes>"
      ]
     },
     "metadata": {},
     "output_type": "display_data"
    }
   ],
   "source": [
    "plt.figure(figsize=(8, 6))\n",
    "plt.scatter(range(len(y_test)), y_test, color='blue', label='Actual Goals', alpha=0.7)\n",
    "\n",
    "# Gol predetti (y) in arancione\n",
    "plt.scatter(range(len(y_pred_rounded)), y_pred_rounded, color='orange', label='Predicted Goals')\n",
    "\n",
    "# Etichette e titolo\n",
    "plt.xlabel('Player Index')\n",
    "plt.ylabel('Goals')\n",
    "plt.title('Actual vs Predicted Goals')"
   ]
  },
  {
   "cell_type": "markdown",
   "id": "17fe9eba",
   "metadata": {},
   "source": [
    "CENTROCAMPISTI"
   ]
  },
  {
   "cell_type": "code",
   "execution_count": 196,
   "id": "c25b4733",
   "metadata": {},
   "outputs": [],
   "source": [
    "position = ['MF', 'MFDF', 'DFMF', 'MFFW', 'FWMF']\n",
    "forwards_data_train = dataset_22[dataset_22['Pos'].isin(position)]\n",
    "forwards_data_test = dataset_23[dataset_23['Pos'].isin(position)]\n",
    "\n",
    "features = ['PasTotCmp', 'PasTotDist', 'PasAss', 'CrsPA', 'ScaPassLive', 'GCA', 'Carries', 'CarPrgDist', 'PPA']\n",
    "target = 'Assists'\n",
    "\n",
    "X_train = forwards_data_train[features]\n",
    "y_train = forwards_data_train[target]\n",
    "\n",
    "X_test = forwards_data_test[features]\n",
    "y_test = forwards_data_test[target]\n",
    "\n",
    "midfielder_pridction = LinearRegression()\n",
    "midfielder_pridction.fit(X_train, y_train)\n",
    "\n",
    "y_pred = midfielder_pridction.predict(X_test)\n",
    "y_pred_rounded = np.round(y_pred).astype(int)"
   ]
  },
  {
   "cell_type": "code",
   "execution_count": 197,
   "id": "c1d6aad5",
   "metadata": {},
   "outputs": [
    {
     "name": "stdout",
     "output_type": "stream",
     "text": [
      "2689        Player  Assists  Predicted Assists\n",
      "1650  Lionel Messi     10.0                 10\n"
     ]
    }
   ],
   "source": [
    "comparison_df = forwards_data_test[['Player', 'Assists']].copy()\n",
    "comparison_df['Predicted Assists'] = y_pred_rounded\n",
    "\n",
    "# Visualizzare il confronto\n",
    "#print(comparison_df)\n",
    "\n",
    "# Esempio: filtrare un giocatore specifico\n",
    "player_name = \"Lionel Messi\"  # Sostituisci con il nome del giocatore\n",
    "player_comparison = comparison_df[comparison_df['Player'] == player_name]\n",
    "print(player_comparison)"
   ]
  },
  {
   "cell_type": "code",
   "execution_count": 198,
   "id": "5016437d",
   "metadata": {},
   "outputs": [
    {
     "name": "stdout",
     "output_type": "stream",
     "text": [
      "Mean Squared Error: 0.6142102484976631\n"
     ]
    }
   ],
   "source": [
    "mse = mean_squared_error(y_test, y_pred)\n",
    "print(\"Mean Squared Error:\", mse)"
   ]
  },
  {
   "cell_type": "code",
   "execution_count": 199,
   "id": "0e4c7658",
   "metadata": {},
   "outputs": [
    {
     "data": {
      "text/plain": [
       "Text(0.5, 1.0, 'Actual vs Predicted Assists')"
      ]
     },
     "execution_count": 199,
     "metadata": {},
     "output_type": "execute_result"
    },
    {
     "data": {
      "image/png": "[encoded data removed]",
      "text/plain": [
       "<Figure size 800x600 with 1 Axes>"
      ]
     },
     "metadata": {},
     "output_type": "display_data"
    }
   ],
   "source": [
    "plt.figure(figsize=(8, 6))\n",
    "plt.scatter(range(len(y_test)), y_test, color='blue', label='Actual Assits', alpha=0.7)\n",
    "\n",
    "# Gol predetti (y) in arancione\n",
    "plt.scatter(range(len(y_pred_rounded)), y_pred_rounded, color='orange', label='Predicted Assists')\n",
    "\n",
    "# Etichette e titolo\n",
    "plt.xlabel('Player Index')\n",
    "plt.ylabel('Assists')\n",
    "plt.title('Actual vs Predicted Assists')"
   ]
  }
 ],
 "metadata": {
  "kernelspec": {
   "display_name": "Python 3",
   "language": "python",
   "name": "python3"
  },
  "language_info": {
   "codemirror_mode": {
    "name": "ipython",
    "version": 3
   },
   "file_extension": ".py",
   "mimetype": "text/x-python",
   "name": "python",
   "nbconvert_exporter": "python",
   "pygments_lexer": "ipython3",
   "version": "3.10.12"
  }
 },
 "nbformat": 4,
 "nbformat_minor": 5
}
