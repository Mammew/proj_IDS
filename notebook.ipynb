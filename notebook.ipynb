{
 "cells": [
  {
   "cell_type": "markdown",
   "id": "88039aad",
   "metadata": {},
   "source": [
    "# TITLE OF NOTEBOOK"
   ]
  },
  {
   "cell_type": "code",
   "execution_count": null,
   "id": "09165603",
   "metadata": {},
   "outputs": [],
   "source": [
    "import pandas as pd\n",
    "import matplotlib.pyplot as plt\n",
    "import numpy as np\n",
    "import scipy.stats as stats\n",
    "import sklearn "
   ]
  },
  {
   "cell_type": "code",
   "execution_count": null,
   "id": "6556c443",
   "metadata": {},
   "outputs": [],
   "source": [
    "\n",
    "dataset_23 = pd.read_csv(\"datasets/2022-2023_Football_Player_Stats.csv\", encoding=\"latin1\")\n",
    "dataset_22 = pd.read_csv(\"datasets/2021-2021_Football_Player_Stats.csv\", encoding=\"latin1\")\n"
   ]
  }
 ],
 "metadata": {
  "kernelspec": {
   "display_name": "data_science",
   "language": "python",
   "name": "python3"
  },
  "language_info": {
   "codemirror_mode": {
    "name": "ipython",
    "version": 3
   },
   "file_extension": ".py",
   "mimetype": "text/x-python",
   "name": "python",
   "nbconvert_exporter": "python",
   "pygments_lexer": "ipython3",
   "version": "3.9.21"
  }
 },
 "nbformat": 4,
 "nbformat_minor": 5
}
